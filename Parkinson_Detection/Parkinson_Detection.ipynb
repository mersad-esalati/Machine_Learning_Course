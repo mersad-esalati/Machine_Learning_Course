{
 "cells": [
  {
   "cell_type": "code",
   "execution_count": 1,
   "metadata": {
    "id": "Oii0NLDXdSzN"
   },
   "outputs": [],
   "source": [
    "# import warnings filter\n",
    "from warnings import simplefilter\n",
    "# ignore all future warnings\n",
    "simplefilter(action='ignore', category=FutureWarning)"
   ]
  },
  {
   "cell_type": "code",
   "execution_count": 2,
   "metadata": {
    "id": "vDuS_12odi0k"
   },
   "outputs": [],
   "source": [
    "import itertools\n",
    "\n",
    "import numpy as np\n",
    "\n",
    "import matplotlib.pyplot as plt\n",
    "\n",
    "def plot_confusion_matrix(cm, classes, title='Confusion matrix'):\n",
    "    plt.imshow(cm, interpolation='nearest', cmap=plt.cm.Blues)\n",
    "    plt.title(title)\n",
    "    plt.colorbar()\n",
    "    tick_marks = np.arange(len(classes))\n",
    "    plt.xticks(tick_marks, classes)\n",
    "    plt.yticks(tick_marks, classes)\n",
    "\n",
    "    thresh = cm.max() / 2.\n",
    "    for i, j in itertools.product(range(cm.shape[0]), range(cm.shape[1])):\n",
    "        plt.text(j, i, cm[i, j],\n",
    "                 horizontalalignment=\"center\",\n",
    "                 color=\"white\" if cm[i, j] > thresh else \"black\")\n",
    "    plt.ylabel('Actual label')\n",
    "    plt.xlabel('Predicted label')"
   ]
  },
  {
   "cell_type": "markdown",
   "metadata": {
    "id": "PKDB-jUL4VZ0"
   },
   "source": [
    "# Load Dataset"
   ]
  },
  {
   "cell_type": "markdown",
   "metadata": {
    "id": "-6VQkwcndw0p"
   },
   "source": [
    "<div dir=\"rtl\">\n",
    "مجموعه داده مورد مطالعه مربوط به اطلاعات ثبت شده از صوت افراد مختلف می باشد که به منظور تشخیص بیماری پارکینسون مورد استفاده قرار می گیرند. این مجموعه داده شامل ۱۸۸ بیمار پارکینسون (۱۰۷ مرد و ۸۱ زن) و ۶۴ فرد سالم (۲۳ مرد و ۴۱ زن) می باشد. آزمایش مد نظر به منظور جلوگیری از خطا برای هر فرد سه بار تکرار شده است. با توجه به کم بودن تعداد داده ها از تجمیع کردن آن ها خودداری می کنیم و هر داده را مستقل در نظر می گیریم. پس در نهایت مجموعه داده شامل ۷۵۶ تا داده با تعداد ابعاد ویژگی ۷۵۳ می باشد.\n",
    "</div>"
   ]
  },
  {
   "cell_type": "code",
   "execution_count": 3,
   "metadata": {
    "colab": {
     "base_uri": "https://localhost:8080/",
     "height": 562
    },
    "id": "V2_qisQq9RK4",
    "outputId": "2b0b479a-b2a7-4b7c-8849-22e6989ce834"
   },
   "outputs": [
    {
     "data": {
      "text/html": [
       "<div>\n",
       "<style scoped>\n",
       "    .dataframe tbody tr th:only-of-type {\n",
       "        vertical-align: middle;\n",
       "    }\n",
       "\n",
       "    .dataframe tbody tr th {\n",
       "        vertical-align: top;\n",
       "    }\n",
       "\n",
       "    .dataframe thead th {\n",
       "        text-align: right;\n",
       "    }\n",
       "</style>\n",
       "<table border=\"1\" class=\"dataframe\">\n",
       "  <thead>\n",
       "    <tr style=\"text-align: right;\">\n",
       "      <th></th>\n",
       "      <th>gender</th>\n",
       "      <th>PPE</th>\n",
       "      <th>DFA</th>\n",
       "      <th>RPDE</th>\n",
       "      <th>numPulses</th>\n",
       "      <th>numPeriodsPulses</th>\n",
       "      <th>meanPeriodPulses</th>\n",
       "      <th>stdDevPeriodPulses</th>\n",
       "      <th>locPctJitter</th>\n",
       "      <th>locAbsJitter</th>\n",
       "      <th>rapJitter</th>\n",
       "      <th>ppq5Jitter</th>\n",
       "      <th>ddpJitter</th>\n",
       "      <th>locShimmer</th>\n",
       "      <th>locDbShimmer</th>\n",
       "      <th>apq3Shimmer</th>\n",
       "      <th>apq5Shimmer</th>\n",
       "      <th>apq11Shimmer</th>\n",
       "      <th>ddaShimmer</th>\n",
       "      <th>meanAutoCorrHarmonicity</th>\n",
       "      <th>meanNoiseToHarmHarmonicity</th>\n",
       "      <th>meanHarmToNoiseHarmonicity</th>\n",
       "      <th>minIntensity</th>\n",
       "      <th>maxIntensity</th>\n",
       "      <th>meanIntensity</th>\n",
       "      <th>f1</th>\n",
       "      <th>f2</th>\n",
       "      <th>f3</th>\n",
       "      <th>f4</th>\n",
       "      <th>b1</th>\n",
       "      <th>b2</th>\n",
       "      <th>b3</th>\n",
       "      <th>b4</th>\n",
       "      <th>GQ_prc5_95</th>\n",
       "      <th>GQ_std_cycle_open</th>\n",
       "      <th>GQ_std_cycle_closed</th>\n",
       "      <th>GNE_mean</th>\n",
       "      <th>GNE_std</th>\n",
       "      <th>GNE_SNR_TKEO</th>\n",
       "      <th>GNE_SNR_SEO</th>\n",
       "      <th>...</th>\n",
       "      <th>tqwt_skewnessValue_dec_34</th>\n",
       "      <th>tqwt_skewnessValue_dec_35</th>\n",
       "      <th>tqwt_skewnessValue_dec_36</th>\n",
       "      <th>tqwt_kurtosisValue_dec_1</th>\n",
       "      <th>tqwt_kurtosisValue_dec_2</th>\n",
       "      <th>tqwt_kurtosisValue_dec_3</th>\n",
       "      <th>tqwt_kurtosisValue_dec_4</th>\n",
       "      <th>tqwt_kurtosisValue_dec_5</th>\n",
       "      <th>tqwt_kurtosisValue_dec_6</th>\n",
       "      <th>tqwt_kurtosisValue_dec_7</th>\n",
       "      <th>tqwt_kurtosisValue_dec_8</th>\n",
       "      <th>tqwt_kurtosisValue_dec_9</th>\n",
       "      <th>tqwt_kurtosisValue_dec_10</th>\n",
       "      <th>tqwt_kurtosisValue_dec_11</th>\n",
       "      <th>tqwt_kurtosisValue_dec_12</th>\n",
       "      <th>tqwt_kurtosisValue_dec_13</th>\n",
       "      <th>tqwt_kurtosisValue_dec_14</th>\n",
       "      <th>tqwt_kurtosisValue_dec_15</th>\n",
       "      <th>tqwt_kurtosisValue_dec_16</th>\n",
       "      <th>tqwt_kurtosisValue_dec_17</th>\n",
       "      <th>tqwt_kurtosisValue_dec_18</th>\n",
       "      <th>tqwt_kurtosisValue_dec_19</th>\n",
       "      <th>tqwt_kurtosisValue_dec_20</th>\n",
       "      <th>tqwt_kurtosisValue_dec_21</th>\n",
       "      <th>tqwt_kurtosisValue_dec_22</th>\n",
       "      <th>tqwt_kurtosisValue_dec_23</th>\n",
       "      <th>tqwt_kurtosisValue_dec_24</th>\n",
       "      <th>tqwt_kurtosisValue_dec_25</th>\n",
       "      <th>tqwt_kurtosisValue_dec_26</th>\n",
       "      <th>tqwt_kurtosisValue_dec_27</th>\n",
       "      <th>tqwt_kurtosisValue_dec_28</th>\n",
       "      <th>tqwt_kurtosisValue_dec_29</th>\n",
       "      <th>tqwt_kurtosisValue_dec_30</th>\n",
       "      <th>tqwt_kurtosisValue_dec_31</th>\n",
       "      <th>tqwt_kurtosisValue_dec_32</th>\n",
       "      <th>tqwt_kurtosisValue_dec_33</th>\n",
       "      <th>tqwt_kurtosisValue_dec_34</th>\n",
       "      <th>tqwt_kurtosisValue_dec_35</th>\n",
       "      <th>tqwt_kurtosisValue_dec_36</th>\n",
       "      <th>class</th>\n",
       "    </tr>\n",
       "    <tr>\n",
       "      <th>id</th>\n",
       "      <th></th>\n",
       "      <th></th>\n",
       "      <th></th>\n",
       "      <th></th>\n",
       "      <th></th>\n",
       "      <th></th>\n",
       "      <th></th>\n",
       "      <th></th>\n",
       "      <th></th>\n",
       "      <th></th>\n",
       "      <th></th>\n",
       "      <th></th>\n",
       "      <th></th>\n",
       "      <th></th>\n",
       "      <th></th>\n",
       "      <th></th>\n",
       "      <th></th>\n",
       "      <th></th>\n",
       "      <th></th>\n",
       "      <th></th>\n",
       "      <th></th>\n",
       "      <th></th>\n",
       "      <th></th>\n",
       "      <th></th>\n",
       "      <th></th>\n",
       "      <th></th>\n",
       "      <th></th>\n",
       "      <th></th>\n",
       "      <th></th>\n",
       "      <th></th>\n",
       "      <th></th>\n",
       "      <th></th>\n",
       "      <th></th>\n",
       "      <th></th>\n",
       "      <th></th>\n",
       "      <th></th>\n",
       "      <th></th>\n",
       "      <th></th>\n",
       "      <th></th>\n",
       "      <th></th>\n",
       "      <th></th>\n",
       "      <th></th>\n",
       "      <th></th>\n",
       "      <th></th>\n",
       "      <th></th>\n",
       "      <th></th>\n",
       "      <th></th>\n",
       "      <th></th>\n",
       "      <th></th>\n",
       "      <th></th>\n",
       "      <th></th>\n",
       "      <th></th>\n",
       "      <th></th>\n",
       "      <th></th>\n",
       "      <th></th>\n",
       "      <th></th>\n",
       "      <th></th>\n",
       "      <th></th>\n",
       "      <th></th>\n",
       "      <th></th>\n",
       "      <th></th>\n",
       "      <th></th>\n",
       "      <th></th>\n",
       "      <th></th>\n",
       "      <th></th>\n",
       "      <th></th>\n",
       "      <th></th>\n",
       "      <th></th>\n",
       "      <th></th>\n",
       "      <th></th>\n",
       "      <th></th>\n",
       "      <th></th>\n",
       "      <th></th>\n",
       "      <th></th>\n",
       "      <th></th>\n",
       "      <th></th>\n",
       "      <th></th>\n",
       "      <th></th>\n",
       "      <th></th>\n",
       "      <th></th>\n",
       "      <th></th>\n",
       "    </tr>\n",
       "  </thead>\n",
       "  <tbody>\n",
       "    <tr>\n",
       "      <th>0</th>\n",
       "      <td>1</td>\n",
       "      <td>0.85247</td>\n",
       "      <td>0.71826</td>\n",
       "      <td>0.57227</td>\n",
       "      <td>240</td>\n",
       "      <td>239</td>\n",
       "      <td>0.008064</td>\n",
       "      <td>0.000087</td>\n",
       "      <td>0.00218</td>\n",
       "      <td>0.000018</td>\n",
       "      <td>0.00067</td>\n",
       "      <td>0.00129</td>\n",
       "      <td>0.00200</td>\n",
       "      <td>0.05883</td>\n",
       "      <td>0.517</td>\n",
       "      <td>0.03011</td>\n",
       "      <td>0.03496</td>\n",
       "      <td>0.04828</td>\n",
       "      <td>0.09034</td>\n",
       "      <td>0.970805</td>\n",
       "      <td>0.036223</td>\n",
       "      <td>18.995</td>\n",
       "      <td>69.997496</td>\n",
       "      <td>76.088046</td>\n",
       "      <td>72.465512</td>\n",
       "      <td>539.342735</td>\n",
       "      <td>1031.849040</td>\n",
       "      <td>2447.162183</td>\n",
       "      <td>3655.054806</td>\n",
       "      <td>101.092218</td>\n",
       "      <td>83.147440</td>\n",
       "      <td>255.214830</td>\n",
       "      <td>396.643631</td>\n",
       "      <td>0.77778</td>\n",
       "      <td>11.7245</td>\n",
       "      <td>2.8277</td>\n",
       "      <td>1.17300</td>\n",
       "      <td>0.265120</td>\n",
       "      <td>0.083127</td>\n",
       "      <td>1200445.612</td>\n",
       "      <td>...</td>\n",
       "      <td>0.071728</td>\n",
       "      <td>0.010352</td>\n",
       "      <td>-2.730300</td>\n",
       "      <td>66.5007</td>\n",
       "      <td>36.9934</td>\n",
       "      <td>26.3508</td>\n",
       "      <td>51.9577</td>\n",
       "      <td>21.5451</td>\n",
       "      <td>8.2488</td>\n",
       "      <td>8.0024</td>\n",
       "      <td>6.9635</td>\n",
       "      <td>6.9189</td>\n",
       "      <td>5.0622</td>\n",
       "      <td>4.6068</td>\n",
       "      <td>7.7218</td>\n",
       "      <td>2.7224</td>\n",
       "      <td>2.4171</td>\n",
       "      <td>2.9383</td>\n",
       "      <td>4.2077</td>\n",
       "      <td>3.1541</td>\n",
       "      <td>2.8531</td>\n",
       "      <td>2.7496</td>\n",
       "      <td>2.1550</td>\n",
       "      <td>2.9457</td>\n",
       "      <td>2.1993</td>\n",
       "      <td>1.9830</td>\n",
       "      <td>1.8314</td>\n",
       "      <td>2.0062</td>\n",
       "      <td>1.6058</td>\n",
       "      <td>1.5466</td>\n",
       "      <td>1.5620</td>\n",
       "      <td>2.6445</td>\n",
       "      <td>3.8686</td>\n",
       "      <td>4.2105</td>\n",
       "      <td>5.1221</td>\n",
       "      <td>4.4625</td>\n",
       "      <td>2.6202</td>\n",
       "      <td>3.0004</td>\n",
       "      <td>18.9405</td>\n",
       "      <td>1</td>\n",
       "    </tr>\n",
       "    <tr>\n",
       "      <th>0</th>\n",
       "      <td>1</td>\n",
       "      <td>0.76686</td>\n",
       "      <td>0.69481</td>\n",
       "      <td>0.53966</td>\n",
       "      <td>234</td>\n",
       "      <td>233</td>\n",
       "      <td>0.008258</td>\n",
       "      <td>0.000073</td>\n",
       "      <td>0.00195</td>\n",
       "      <td>0.000016</td>\n",
       "      <td>0.00052</td>\n",
       "      <td>0.00112</td>\n",
       "      <td>0.00157</td>\n",
       "      <td>0.05516</td>\n",
       "      <td>0.502</td>\n",
       "      <td>0.02320</td>\n",
       "      <td>0.03675</td>\n",
       "      <td>0.06195</td>\n",
       "      <td>0.06961</td>\n",
       "      <td>0.984322</td>\n",
       "      <td>0.017974</td>\n",
       "      <td>21.497</td>\n",
       "      <td>67.415903</td>\n",
       "      <td>73.046374</td>\n",
       "      <td>71.528945</td>\n",
       "      <td>564.363614</td>\n",
       "      <td>1016.367294</td>\n",
       "      <td>2383.565201</td>\n",
       "      <td>3498.681572</td>\n",
       "      <td>58.465428</td>\n",
       "      <td>86.487292</td>\n",
       "      <td>248.357127</td>\n",
       "      <td>218.229722</td>\n",
       "      <td>0.81250</td>\n",
       "      <td>13.8284</td>\n",
       "      <td>2.8908</td>\n",
       "      <td>1.02210</td>\n",
       "      <td>0.220040</td>\n",
       "      <td>0.127410</td>\n",
       "      <td>1298455.445</td>\n",
       "      <td>...</td>\n",
       "      <td>0.729330</td>\n",
       "      <td>0.780410</td>\n",
       "      <td>5.229400</td>\n",
       "      <td>8643.9860</td>\n",
       "      <td>3962.0554</td>\n",
       "      <td>2976.2411</td>\n",
       "      <td>4329.0607</td>\n",
       "      <td>4005.1329</td>\n",
       "      <td>1127.6762</td>\n",
       "      <td>116.5331</td>\n",
       "      <td>20.2332</td>\n",
       "      <td>13.6395</td>\n",
       "      <td>12.5514</td>\n",
       "      <td>13.6965</td>\n",
       "      <td>60.8974</td>\n",
       "      <td>6.2958</td>\n",
       "      <td>3.0323</td>\n",
       "      <td>3.4039</td>\n",
       "      <td>4.3794</td>\n",
       "      <td>2.4329</td>\n",
       "      <td>2.0585</td>\n",
       "      <td>2.1839</td>\n",
       "      <td>2.2061</td>\n",
       "      <td>3.0999</td>\n",
       "      <td>1.9824</td>\n",
       "      <td>1.6227</td>\n",
       "      <td>1.5783</td>\n",
       "      <td>2.0470</td>\n",
       "      <td>1.5772</td>\n",
       "      <td>1.5530</td>\n",
       "      <td>1.5589</td>\n",
       "      <td>3.6107</td>\n",
       "      <td>23.5155</td>\n",
       "      <td>14.1962</td>\n",
       "      <td>11.0261</td>\n",
       "      <td>9.5082</td>\n",
       "      <td>6.5245</td>\n",
       "      <td>6.3431</td>\n",
       "      <td>45.1780</td>\n",
       "      <td>1</td>\n",
       "    </tr>\n",
       "    <tr>\n",
       "      <th>0</th>\n",
       "      <td>1</td>\n",
       "      <td>0.85083</td>\n",
       "      <td>0.67604</td>\n",
       "      <td>0.58982</td>\n",
       "      <td>232</td>\n",
       "      <td>231</td>\n",
       "      <td>0.008340</td>\n",
       "      <td>0.000060</td>\n",
       "      <td>0.00176</td>\n",
       "      <td>0.000015</td>\n",
       "      <td>0.00057</td>\n",
       "      <td>0.00111</td>\n",
       "      <td>0.00171</td>\n",
       "      <td>0.09902</td>\n",
       "      <td>0.897</td>\n",
       "      <td>0.05094</td>\n",
       "      <td>0.06497</td>\n",
       "      <td>0.07772</td>\n",
       "      <td>0.15282</td>\n",
       "      <td>0.974846</td>\n",
       "      <td>0.026313</td>\n",
       "      <td>17.651</td>\n",
       "      <td>62.661706</td>\n",
       "      <td>71.633549</td>\n",
       "      <td>68.086583</td>\n",
       "      <td>548.444604</td>\n",
       "      <td>1032.406341</td>\n",
       "      <td>2357.826954</td>\n",
       "      <td>3678.128717</td>\n",
       "      <td>160.387771</td>\n",
       "      <td>54.685168</td>\n",
       "      <td>151.694847</td>\n",
       "      <td>84.240339</td>\n",
       "      <td>0.81818</td>\n",
       "      <td>26.9273</td>\n",
       "      <td>2.6975</td>\n",
       "      <td>0.84951</td>\n",
       "      <td>0.157560</td>\n",
       "      <td>0.116890</td>\n",
       "      <td>1272869.841</td>\n",
       "      <td>...</td>\n",
       "      <td>0.269510</td>\n",
       "      <td>-0.005522</td>\n",
       "      <td>0.350540</td>\n",
       "      <td>29.2717</td>\n",
       "      <td>32.4971</td>\n",
       "      <td>38.9453</td>\n",
       "      <td>85.1480</td>\n",
       "      <td>62.5132</td>\n",
       "      <td>9.7308</td>\n",
       "      <td>6.8890</td>\n",
       "      <td>6.1357</td>\n",
       "      <td>5.4926</td>\n",
       "      <td>3.9078</td>\n",
       "      <td>4.0864</td>\n",
       "      <td>6.9828</td>\n",
       "      <td>3.4411</td>\n",
       "      <td>3.5173</td>\n",
       "      <td>3.7204</td>\n",
       "      <td>4.2212</td>\n",
       "      <td>3.4881</td>\n",
       "      <td>3.4851</td>\n",
       "      <td>3.3007</td>\n",
       "      <td>2.0427</td>\n",
       "      <td>3.1436</td>\n",
       "      <td>2.1203</td>\n",
       "      <td>1.6627</td>\n",
       "      <td>1.6731</td>\n",
       "      <td>3.2597</td>\n",
       "      <td>1.5921</td>\n",
       "      <td>1.5399</td>\n",
       "      <td>1.5643</td>\n",
       "      <td>2.3308</td>\n",
       "      <td>9.4959</td>\n",
       "      <td>10.7458</td>\n",
       "      <td>11.0177</td>\n",
       "      <td>4.8066</td>\n",
       "      <td>2.9199</td>\n",
       "      <td>3.1495</td>\n",
       "      <td>4.7666</td>\n",
       "      <td>1</td>\n",
       "    </tr>\n",
       "    <tr>\n",
       "      <th>1</th>\n",
       "      <td>0</td>\n",
       "      <td>0.41121</td>\n",
       "      <td>0.79672</td>\n",
       "      <td>0.59257</td>\n",
       "      <td>178</td>\n",
       "      <td>177</td>\n",
       "      <td>0.010858</td>\n",
       "      <td>0.000183</td>\n",
       "      <td>0.00419</td>\n",
       "      <td>0.000046</td>\n",
       "      <td>0.00149</td>\n",
       "      <td>0.00268</td>\n",
       "      <td>0.00446</td>\n",
       "      <td>0.05451</td>\n",
       "      <td>0.527</td>\n",
       "      <td>0.02395</td>\n",
       "      <td>0.02857</td>\n",
       "      <td>0.04462</td>\n",
       "      <td>0.07185</td>\n",
       "      <td>0.968343</td>\n",
       "      <td>0.042003</td>\n",
       "      <td>19.865</td>\n",
       "      <td>76.306989</td>\n",
       "      <td>81.000749</td>\n",
       "      <td>79.190593</td>\n",
       "      <td>819.529588</td>\n",
       "      <td>1201.813897</td>\n",
       "      <td>3154.035654</td>\n",
       "      <td>4122.163933</td>\n",
       "      <td>238.667052</td>\n",
       "      <td>191.984916</td>\n",
       "      <td>573.752909</td>\n",
       "      <td>526.147599</td>\n",
       "      <td>0.98548</td>\n",
       "      <td>139.5744</td>\n",
       "      <td>1.6961</td>\n",
       "      <td>0.83405</td>\n",
       "      <td>0.172950</td>\n",
       "      <td>0.147370</td>\n",
       "      <td>1932289.206</td>\n",
       "      <td>...</td>\n",
       "      <td>0.366920</td>\n",
       "      <td>-0.492650</td>\n",
       "      <td>0.191640</td>\n",
       "      <td>591.0116</td>\n",
       "      <td>65.3827</td>\n",
       "      <td>53.9852</td>\n",
       "      <td>45.4458</td>\n",
       "      <td>34.6650</td>\n",
       "      <td>88.3259</td>\n",
       "      <td>46.6869</td>\n",
       "      <td>23.2911</td>\n",
       "      <td>19.2022</td>\n",
       "      <td>42.3957</td>\n",
       "      <td>100.3649</td>\n",
       "      <td>7.1967</td>\n",
       "      <td>6.3892</td>\n",
       "      <td>6.5496</td>\n",
       "      <td>6.0264</td>\n",
       "      <td>4.7656</td>\n",
       "      <td>4.8909</td>\n",
       "      <td>4.2531</td>\n",
       "      <td>3.0295</td>\n",
       "      <td>2.0362</td>\n",
       "      <td>1.8478</td>\n",
       "      <td>2.5776</td>\n",
       "      <td>2.2064</td>\n",
       "      <td>1.9491</td>\n",
       "      <td>1.9120</td>\n",
       "      <td>1.8829</td>\n",
       "      <td>6.9761</td>\n",
       "      <td>3.7805</td>\n",
       "      <td>3.5664</td>\n",
       "      <td>5.2558</td>\n",
       "      <td>14.0403</td>\n",
       "      <td>4.2235</td>\n",
       "      <td>4.6857</td>\n",
       "      <td>4.8460</td>\n",
       "      <td>6.2650</td>\n",
       "      <td>4.0603</td>\n",
       "      <td>1</td>\n",
       "    </tr>\n",
       "    <tr>\n",
       "      <th>1</th>\n",
       "      <td>0</td>\n",
       "      <td>0.32790</td>\n",
       "      <td>0.79782</td>\n",
       "      <td>0.53028</td>\n",
       "      <td>236</td>\n",
       "      <td>235</td>\n",
       "      <td>0.008162</td>\n",
       "      <td>0.002669</td>\n",
       "      <td>0.00535</td>\n",
       "      <td>0.000044</td>\n",
       "      <td>0.00166</td>\n",
       "      <td>0.00227</td>\n",
       "      <td>0.00499</td>\n",
       "      <td>0.05610</td>\n",
       "      <td>0.497</td>\n",
       "      <td>0.02909</td>\n",
       "      <td>0.03327</td>\n",
       "      <td>0.05278</td>\n",
       "      <td>0.08728</td>\n",
       "      <td>0.975754</td>\n",
       "      <td>0.027139</td>\n",
       "      <td>19.557</td>\n",
       "      <td>76.645686</td>\n",
       "      <td>80.937258</td>\n",
       "      <td>79.183495</td>\n",
       "      <td>846.796144</td>\n",
       "      <td>1215.346469</td>\n",
       "      <td>3201.513132</td>\n",
       "      <td>4085.456839</td>\n",
       "      <td>402.216738</td>\n",
       "      <td>210.061394</td>\n",
       "      <td>203.637106</td>\n",
       "      <td>384.611697</td>\n",
       "      <td>0.97847</td>\n",
       "      <td>102.0549</td>\n",
       "      <td>15.4045</td>\n",
       "      <td>0.83556</td>\n",
       "      <td>0.162100</td>\n",
       "      <td>0.151990</td>\n",
       "      <td>1861807.802</td>\n",
       "      <td>...</td>\n",
       "      <td>-0.378360</td>\n",
       "      <td>-0.035805</td>\n",
       "      <td>0.265960</td>\n",
       "      <td>32.0393</td>\n",
       "      <td>7.2343</td>\n",
       "      <td>6.5540</td>\n",
       "      <td>6.4520</td>\n",
       "      <td>6.9274</td>\n",
       "      <td>10.2265</td>\n",
       "      <td>14.2579</td>\n",
       "      <td>10.6181</td>\n",
       "      <td>8.6143</td>\n",
       "      <td>9.5822</td>\n",
       "      <td>34.0835</td>\n",
       "      <td>4.1139</td>\n",
       "      <td>3.6718</td>\n",
       "      <td>4.4360</td>\n",
       "      <td>4.5793</td>\n",
       "      <td>3.9447</td>\n",
       "      <td>4.1253</td>\n",
       "      <td>3.4869</td>\n",
       "      <td>2.4627</td>\n",
       "      <td>2.1073</td>\n",
       "      <td>1.9056</td>\n",
       "      <td>2.2214</td>\n",
       "      <td>2.0588</td>\n",
       "      <td>1.8157</td>\n",
       "      <td>1.7577</td>\n",
       "      <td>1.8821</td>\n",
       "      <td>7.8832</td>\n",
       "      <td>6.1727</td>\n",
       "      <td>5.8416</td>\n",
       "      <td>6.0805</td>\n",
       "      <td>5.7621</td>\n",
       "      <td>7.7817</td>\n",
       "      <td>11.6891</td>\n",
       "      <td>8.2103</td>\n",
       "      <td>5.0559</td>\n",
       "      <td>6.1164</td>\n",
       "      <td>1</td>\n",
       "    </tr>\n",
       "    <tr>\n",
       "      <th>...</th>\n",
       "      <td>...</td>\n",
       "      <td>...</td>\n",
       "      <td>...</td>\n",
       "      <td>...</td>\n",
       "      <td>...</td>\n",
       "      <td>...</td>\n",
       "      <td>...</td>\n",
       "      <td>...</td>\n",
       "      <td>...</td>\n",
       "      <td>...</td>\n",
       "      <td>...</td>\n",
       "      <td>...</td>\n",
       "      <td>...</td>\n",
       "      <td>...</td>\n",
       "      <td>...</td>\n",
       "      <td>...</td>\n",
       "      <td>...</td>\n",
       "      <td>...</td>\n",
       "      <td>...</td>\n",
       "      <td>...</td>\n",
       "      <td>...</td>\n",
       "      <td>...</td>\n",
       "      <td>...</td>\n",
       "      <td>...</td>\n",
       "      <td>...</td>\n",
       "      <td>...</td>\n",
       "      <td>...</td>\n",
       "      <td>...</td>\n",
       "      <td>...</td>\n",
       "      <td>...</td>\n",
       "      <td>...</td>\n",
       "      <td>...</td>\n",
       "      <td>...</td>\n",
       "      <td>...</td>\n",
       "      <td>...</td>\n",
       "      <td>...</td>\n",
       "      <td>...</td>\n",
       "      <td>...</td>\n",
       "      <td>...</td>\n",
       "      <td>...</td>\n",
       "      <td>...</td>\n",
       "      <td>...</td>\n",
       "      <td>...</td>\n",
       "      <td>...</td>\n",
       "      <td>...</td>\n",
       "      <td>...</td>\n",
       "      <td>...</td>\n",
       "      <td>...</td>\n",
       "      <td>...</td>\n",
       "      <td>...</td>\n",
       "      <td>...</td>\n",
       "      <td>...</td>\n",
       "      <td>...</td>\n",
       "      <td>...</td>\n",
       "      <td>...</td>\n",
       "      <td>...</td>\n",
       "      <td>...</td>\n",
       "      <td>...</td>\n",
       "      <td>...</td>\n",
       "      <td>...</td>\n",
       "      <td>...</td>\n",
       "      <td>...</td>\n",
       "      <td>...</td>\n",
       "      <td>...</td>\n",
       "      <td>...</td>\n",
       "      <td>...</td>\n",
       "      <td>...</td>\n",
       "      <td>...</td>\n",
       "      <td>...</td>\n",
       "      <td>...</td>\n",
       "      <td>...</td>\n",
       "      <td>...</td>\n",
       "      <td>...</td>\n",
       "      <td>...</td>\n",
       "      <td>...</td>\n",
       "      <td>...</td>\n",
       "      <td>...</td>\n",
       "      <td>...</td>\n",
       "      <td>...</td>\n",
       "      <td>...</td>\n",
       "      <td>...</td>\n",
       "    </tr>\n",
       "    <tr>\n",
       "      <th>250</th>\n",
       "      <td>0</td>\n",
       "      <td>0.80903</td>\n",
       "      <td>0.56355</td>\n",
       "      <td>0.28385</td>\n",
       "      <td>417</td>\n",
       "      <td>416</td>\n",
       "      <td>0.004627</td>\n",
       "      <td>0.000052</td>\n",
       "      <td>0.00064</td>\n",
       "      <td>0.000003</td>\n",
       "      <td>0.00008</td>\n",
       "      <td>0.00022</td>\n",
       "      <td>0.00024</td>\n",
       "      <td>0.01947</td>\n",
       "      <td>0.171</td>\n",
       "      <td>0.01068</td>\n",
       "      <td>0.01260</td>\n",
       "      <td>0.01547</td>\n",
       "      <td>0.03204</td>\n",
       "      <td>0.997438</td>\n",
       "      <td>0.002571</td>\n",
       "      <td>26.813</td>\n",
       "      <td>79.991789</td>\n",
       "      <td>82.239447</td>\n",
       "      <td>81.244436</td>\n",
       "      <td>881.915768</td>\n",
       "      <td>1395.398812</td>\n",
       "      <td>2862.850072</td>\n",
       "      <td>3285.426385</td>\n",
       "      <td>88.521045</td>\n",
       "      <td>80.283013</td>\n",
       "      <td>836.862497</td>\n",
       "      <td>2954.030296</td>\n",
       "      <td>1.00000</td>\n",
       "      <td>58.5451</td>\n",
       "      <td>0.0000</td>\n",
       "      <td>1.17130</td>\n",
       "      <td>0.129530</td>\n",
       "      <td>0.139260</td>\n",
       "      <td>1390404.985</td>\n",
       "      <td>...</td>\n",
       "      <td>0.077731</td>\n",
       "      <td>0.138020</td>\n",
       "      <td>0.992540</td>\n",
       "      <td>766.6022</td>\n",
       "      <td>92.3168</td>\n",
       "      <td>58.8803</td>\n",
       "      <td>43.6169</td>\n",
       "      <td>18.5289</td>\n",
       "      <td>7.5735</td>\n",
       "      <td>5.2459</td>\n",
       "      <td>5.0495</td>\n",
       "      <td>5.0089</td>\n",
       "      <td>7.5061</td>\n",
       "      <td>5.1805</td>\n",
       "      <td>2.2514</td>\n",
       "      <td>2.2220</td>\n",
       "      <td>2.1739</td>\n",
       "      <td>2.1970</td>\n",
       "      <td>1.6902</td>\n",
       "      <td>1.6711</td>\n",
       "      <td>2.4098</td>\n",
       "      <td>2.2003</td>\n",
       "      <td>1.6249</td>\n",
       "      <td>1.6752</td>\n",
       "      <td>2.3686</td>\n",
       "      <td>1.6420</td>\n",
       "      <td>1.6785</td>\n",
       "      <td>1.7601</td>\n",
       "      <td>10.1906</td>\n",
       "      <td>3.4394</td>\n",
       "      <td>3.0706</td>\n",
       "      <td>3.0190</td>\n",
       "      <td>3.1212</td>\n",
       "      <td>2.4921</td>\n",
       "      <td>3.5844</td>\n",
       "      <td>3.5400</td>\n",
       "      <td>3.3805</td>\n",
       "      <td>3.2003</td>\n",
       "      <td>6.8671</td>\n",
       "      <td>0</td>\n",
       "    </tr>\n",
       "    <tr>\n",
       "      <th>250</th>\n",
       "      <td>0</td>\n",
       "      <td>0.16084</td>\n",
       "      <td>0.56499</td>\n",
       "      <td>0.59194</td>\n",
       "      <td>415</td>\n",
       "      <td>413</td>\n",
       "      <td>0.004550</td>\n",
       "      <td>0.000220</td>\n",
       "      <td>0.00143</td>\n",
       "      <td>0.000006</td>\n",
       "      <td>0.00016</td>\n",
       "      <td>0.00041</td>\n",
       "      <td>0.00047</td>\n",
       "      <td>0.04291</td>\n",
       "      <td>0.482</td>\n",
       "      <td>0.02307</td>\n",
       "      <td>0.02626</td>\n",
       "      <td>0.03272</td>\n",
       "      <td>0.06920</td>\n",
       "      <td>0.976867</td>\n",
       "      <td>0.025519</td>\n",
       "      <td>17.802</td>\n",
       "      <td>70.191330</td>\n",
       "      <td>81.606291</td>\n",
       "      <td>79.423824</td>\n",
       "      <td>907.787590</td>\n",
       "      <td>1406.737344</td>\n",
       "      <td>2958.433790</td>\n",
       "      <td>3819.231665</td>\n",
       "      <td>31.238251</td>\n",
       "      <td>38.919082</td>\n",
       "      <td>5913.036193</td>\n",
       "      <td>472.403606</td>\n",
       "      <td>1.00000</td>\n",
       "      <td>14.5816</td>\n",
       "      <td>0.0000</td>\n",
       "      <td>1.19440</td>\n",
       "      <td>0.267640</td>\n",
       "      <td>0.113530</td>\n",
       "      <td>1773348.921</td>\n",
       "      <td>...</td>\n",
       "      <td>0.255650</td>\n",
       "      <td>-0.595620</td>\n",
       "      <td>2.115100</td>\n",
       "      <td>34.9777</td>\n",
       "      <td>19.5854</td>\n",
       "      <td>18.6791</td>\n",
       "      <td>13.2161</td>\n",
       "      <td>10.2285</td>\n",
       "      <td>6.6010</td>\n",
       "      <td>5.8541</td>\n",
       "      <td>5.8743</td>\n",
       "      <td>6.0817</td>\n",
       "      <td>6.6246</td>\n",
       "      <td>5.3809</td>\n",
       "      <td>2.7024</td>\n",
       "      <td>2.6653</td>\n",
       "      <td>2.8792</td>\n",
       "      <td>2.6471</td>\n",
       "      <td>2.1520</td>\n",
       "      <td>2.0307</td>\n",
       "      <td>2.8916</td>\n",
       "      <td>2.8527</td>\n",
       "      <td>2.0698</td>\n",
       "      <td>2.0290</td>\n",
       "      <td>4.8587</td>\n",
       "      <td>3.7826</td>\n",
       "      <td>2.6391</td>\n",
       "      <td>3.3455</td>\n",
       "      <td>22.4043</td>\n",
       "      <td>19.6733</td>\n",
       "      <td>1.9704</td>\n",
       "      <td>1.7451</td>\n",
       "      <td>1.8277</td>\n",
       "      <td>2.4976</td>\n",
       "      <td>5.2981</td>\n",
       "      <td>4.2616</td>\n",
       "      <td>6.3042</td>\n",
       "      <td>10.9058</td>\n",
       "      <td>28.4170</td>\n",
       "      <td>0</td>\n",
       "    </tr>\n",
       "    <tr>\n",
       "      <th>251</th>\n",
       "      <td>0</td>\n",
       "      <td>0.88389</td>\n",
       "      <td>0.72335</td>\n",
       "      <td>0.46815</td>\n",
       "      <td>381</td>\n",
       "      <td>380</td>\n",
       "      <td>0.005069</td>\n",
       "      <td>0.000103</td>\n",
       "      <td>0.00076</td>\n",
       "      <td>0.000004</td>\n",
       "      <td>0.00011</td>\n",
       "      <td>0.00030</td>\n",
       "      <td>0.00034</td>\n",
       "      <td>0.02978</td>\n",
       "      <td>0.263</td>\n",
       "      <td>0.01597</td>\n",
       "      <td>0.01916</td>\n",
       "      <td>0.02271</td>\n",
       "      <td>0.04790</td>\n",
       "      <td>0.995544</td>\n",
       "      <td>0.004480</td>\n",
       "      <td>24.005</td>\n",
       "      <td>75.091300</td>\n",
       "      <td>77.612498</td>\n",
       "      <td>76.485859</td>\n",
       "      <td>687.046383</td>\n",
       "      <td>1382.653498</td>\n",
       "      <td>2189.489101</td>\n",
       "      <td>3344.351359</td>\n",
       "      <td>250.727258</td>\n",
       "      <td>2566.530343</td>\n",
       "      <td>149.117330</td>\n",
       "      <td>232.686866</td>\n",
       "      <td>1.00000</td>\n",
       "      <td>6.6615</td>\n",
       "      <td>0.0000</td>\n",
       "      <td>0.97851</td>\n",
       "      <td>0.131880</td>\n",
       "      <td>0.132760</td>\n",
       "      <td>1952725.483</td>\n",
       "      <td>...</td>\n",
       "      <td>-0.029656</td>\n",
       "      <td>0.092881</td>\n",
       "      <td>0.086911</td>\n",
       "      <td>403.7367</td>\n",
       "      <td>21.0751</td>\n",
       "      <td>6.6428</td>\n",
       "      <td>5.2851</td>\n",
       "      <td>5.3273</td>\n",
       "      <td>5.5593</td>\n",
       "      <td>4.0632</td>\n",
       "      <td>4.0856</td>\n",
       "      <td>4.6471</td>\n",
       "      <td>5.0046</td>\n",
       "      <td>3.4505</td>\n",
       "      <td>3.0544</td>\n",
       "      <td>3.1043</td>\n",
       "      <td>4.5741</td>\n",
       "      <td>3.6070</td>\n",
       "      <td>2.6502</td>\n",
       "      <td>2.5333</td>\n",
       "      <td>2.1353</td>\n",
       "      <td>2.1454</td>\n",
       "      <td>1.9942</td>\n",
       "      <td>1.7190</td>\n",
       "      <td>2.6232</td>\n",
       "      <td>1.6892</td>\n",
       "      <td>1.6263</td>\n",
       "      <td>1.6380</td>\n",
       "      <td>2.3279</td>\n",
       "      <td>137.3126</td>\n",
       "      <td>51.5607</td>\n",
       "      <td>44.4641</td>\n",
       "      <td>26.1586</td>\n",
       "      <td>6.3076</td>\n",
       "      <td>2.8601</td>\n",
       "      <td>2.5361</td>\n",
       "      <td>3.5377</td>\n",
       "      <td>3.3545</td>\n",
       "      <td>5.0424</td>\n",
       "      <td>0</td>\n",
       "    </tr>\n",
       "    <tr>\n",
       "      <th>251</th>\n",
       "      <td>0</td>\n",
       "      <td>0.83782</td>\n",
       "      <td>0.74890</td>\n",
       "      <td>0.49823</td>\n",
       "      <td>340</td>\n",
       "      <td>339</td>\n",
       "      <td>0.005679</td>\n",
       "      <td>0.000055</td>\n",
       "      <td>0.00092</td>\n",
       "      <td>0.000005</td>\n",
       "      <td>0.00017</td>\n",
       "      <td>0.00041</td>\n",
       "      <td>0.00052</td>\n",
       "      <td>0.03552</td>\n",
       "      <td>0.311</td>\n",
       "      <td>0.01791</td>\n",
       "      <td>0.02348</td>\n",
       "      <td>0.02648</td>\n",
       "      <td>0.05373</td>\n",
       "      <td>0.988241</td>\n",
       "      <td>0.011931</td>\n",
       "      <td>19.706</td>\n",
       "      <td>76.168804</td>\n",
       "      <td>79.266058</td>\n",
       "      <td>77.870915</td>\n",
       "      <td>771.948334</td>\n",
       "      <td>1657.021811</td>\n",
       "      <td>2914.862553</td>\n",
       "      <td>3789.033261</td>\n",
       "      <td>148.537987</td>\n",
       "      <td>107.101663</td>\n",
       "      <td>194.220698</td>\n",
       "      <td>339.805353</td>\n",
       "      <td>1.00000</td>\n",
       "      <td>6.2636</td>\n",
       "      <td>0.0000</td>\n",
       "      <td>0.87012</td>\n",
       "      <td>0.134290</td>\n",
       "      <td>0.152170</td>\n",
       "      <td>1676319.779</td>\n",
       "      <td>...</td>\n",
       "      <td>-0.185180</td>\n",
       "      <td>-0.170720</td>\n",
       "      <td>0.009233</td>\n",
       "      <td>4168.7112</td>\n",
       "      <td>288.4453</td>\n",
       "      <td>148.1733</td>\n",
       "      <td>63.1895</td>\n",
       "      <td>33.9632</td>\n",
       "      <td>12.4309</td>\n",
       "      <td>4.7000</td>\n",
       "      <td>5.0041</td>\n",
       "      <td>5.4431</td>\n",
       "      <td>5.2706</td>\n",
       "      <td>3.7900</td>\n",
       "      <td>3.0156</td>\n",
       "      <td>2.9225</td>\n",
       "      <td>4.7477</td>\n",
       "      <td>3.7193</td>\n",
       "      <td>3.0540</td>\n",
       "      <td>2.4262</td>\n",
       "      <td>2.2441</td>\n",
       "      <td>2.0722</td>\n",
       "      <td>2.3155</td>\n",
       "      <td>1.5696</td>\n",
       "      <td>1.6265</td>\n",
       "      <td>1.6850</td>\n",
       "      <td>1.5701</td>\n",
       "      <td>1.5692</td>\n",
       "      <td>1.6052</td>\n",
       "      <td>5.4425</td>\n",
       "      <td>19.1607</td>\n",
       "      <td>12.8312</td>\n",
       "      <td>8.9434</td>\n",
       "      <td>2.2044</td>\n",
       "      <td>1.9496</td>\n",
       "      <td>1.9664</td>\n",
       "      <td>2.6801</td>\n",
       "      <td>2.8332</td>\n",
       "      <td>3.7131</td>\n",
       "      <td>0</td>\n",
       "    </tr>\n",
       "    <tr>\n",
       "      <th>251</th>\n",
       "      <td>0</td>\n",
       "      <td>0.81304</td>\n",
       "      <td>0.76471</td>\n",
       "      <td>0.46374</td>\n",
       "      <td>340</td>\n",
       "      <td>339</td>\n",
       "      <td>0.005676</td>\n",
       "      <td>0.000037</td>\n",
       "      <td>0.00078</td>\n",
       "      <td>0.000004</td>\n",
       "      <td>0.00014</td>\n",
       "      <td>0.00033</td>\n",
       "      <td>0.00042</td>\n",
       "      <td>0.03702</td>\n",
       "      <td>0.326</td>\n",
       "      <td>0.01940</td>\n",
       "      <td>0.02332</td>\n",
       "      <td>0.02765</td>\n",
       "      <td>0.05820</td>\n",
       "      <td>0.996402</td>\n",
       "      <td>0.003615</td>\n",
       "      <td>25.276</td>\n",
       "      <td>76.076331</td>\n",
       "      <td>79.670177</td>\n",
       "      <td>77.995949</td>\n",
       "      <td>706.567000</td>\n",
       "      <td>1612.140356</td>\n",
       "      <td>2892.932567</td>\n",
       "      <td>4012.558775</td>\n",
       "      <td>253.002448</td>\n",
       "      <td>118.148822</td>\n",
       "      <td>374.755472</td>\n",
       "      <td>315.624916</td>\n",
       "      <td>1.00000</td>\n",
       "      <td>5.4399</td>\n",
       "      <td>0.0000</td>\n",
       "      <td>0.81328</td>\n",
       "      <td>0.086543</td>\n",
       "      <td>0.143040</td>\n",
       "      <td>1622416.027</td>\n",
       "      <td>...</td>\n",
       "      <td>-0.405800</td>\n",
       "      <td>-0.016577</td>\n",
       "      <td>-0.011918</td>\n",
       "      <td>1350.6498</td>\n",
       "      <td>39.6924</td>\n",
       "      <td>88.7012</td>\n",
       "      <td>78.8415</td>\n",
       "      <td>59.5400</td>\n",
       "      <td>168.2406</td>\n",
       "      <td>38.1243</td>\n",
       "      <td>12.1613</td>\n",
       "      <td>7.0117</td>\n",
       "      <td>7.0698</td>\n",
       "      <td>4.0836</td>\n",
       "      <td>3.1870</td>\n",
       "      <td>3.1537</td>\n",
       "      <td>5.0089</td>\n",
       "      <td>4.3831</td>\n",
       "      <td>3.2761</td>\n",
       "      <td>2.8148</td>\n",
       "      <td>2.7033</td>\n",
       "      <td>2.0727</td>\n",
       "      <td>2.3956</td>\n",
       "      <td>1.6540</td>\n",
       "      <td>1.6975</td>\n",
       "      <td>1.9123</td>\n",
       "      <td>1.7320</td>\n",
       "      <td>1.7050</td>\n",
       "      <td>1.6820</td>\n",
       "      <td>11.1487</td>\n",
       "      <td>62.9927</td>\n",
       "      <td>21.8152</td>\n",
       "      <td>9.2457</td>\n",
       "      <td>4.8555</td>\n",
       "      <td>3.0551</td>\n",
       "      <td>3.0415</td>\n",
       "      <td>4.0116</td>\n",
       "      <td>2.6217</td>\n",
       "      <td>3.1527</td>\n",
       "      <td>0</td>\n",
       "    </tr>\n",
       "  </tbody>\n",
       "</table>\n",
       "<p>756 rows × 754 columns</p>\n",
       "</div>"
      ],
      "text/plain": [
       "     gender      PPE  ...  tqwt_kurtosisValue_dec_36  class\n",
       "id                    ...                                  \n",
       "0         1  0.85247  ...                    18.9405      1\n",
       "0         1  0.76686  ...                    45.1780      1\n",
       "0         1  0.85083  ...                     4.7666      1\n",
       "1         0  0.41121  ...                     4.0603      1\n",
       "1         0  0.32790  ...                     6.1164      1\n",
       "..      ...      ...  ...                        ...    ...\n",
       "250       0  0.80903  ...                     6.8671      0\n",
       "250       0  0.16084  ...                    28.4170      0\n",
       "251       0  0.88389  ...                     5.0424      0\n",
       "251       0  0.83782  ...                     3.7131      0\n",
       "251       0  0.81304  ...                     3.1527      0\n",
       "\n",
       "[756 rows x 754 columns]"
      ]
     },
     "metadata": {
      "tags": []
     },
     "output_type": "display_data"
    },
    {
     "name": "stdout",
     "output_type": "stream",
     "text": [
      "<class 'pandas.core.frame.DataFrame'>\n",
      "Int64Index: 756 entries, 0 to 251\n",
      "Columns: 754 entries, gender to class\n",
      "dtypes: float64(749), int64(3), int8(2)\n",
      "memory usage: 4.3 MB\n"
     ]
    }
   ],
   "source": [
    "import pandas as pd\n",
    "\n",
    "df = pd.read_csv('pd_speech_features.csv', index_col='id')\n",
    "\n",
    "df = df.astype({'gender': 'int8', 'class': 'int8'})\n",
    "\n",
    "display(df)\n",
    "df.info()"
   ]
  },
  {
   "cell_type": "markdown",
   "metadata": {
    "id": "DE5WiOQg4heK"
   },
   "source": [
    "# Normalize Data"
   ]
  },
  {
   "cell_type": "markdown",
   "metadata": {
    "id": "QH9zZB4nghyZ"
   },
   "source": [
    "<div dir=\"rtl\">\n",
    "با توجه به اینکه ابعاد مختلف بردار ویژگی در بازه های مختلفی دارند و بیشتر طبقه بند ها مد نظر برای این مسئله مبتنی بر فاصله هستند باید داده ها را normalize کنیم. برای این کار از روش MinMaxScaler استفاده می کنیم که تمام ابعاد بردار ویژگی را به بازه ی 0-1 منتقل می کند\n",
    "</div>"
   ]
  },
  {
   "cell_type": "code",
   "execution_count": 4,
   "metadata": {
    "id": "WJe3XO5RBJBb"
   },
   "outputs": [],
   "source": [
    "from sklearn.preprocessing import MinMaxScaler\n",
    "\n",
    "X_all = df.iloc[:, :-1].to_numpy()\n",
    "y_all = df.iloc[:, -1].to_numpy()\n",
    "\n",
    "# scale data\n",
    "t = MinMaxScaler()\n",
    "t.fit(X_all)\n",
    "X_all = t.transform(X_all)"
   ]
  },
  {
   "cell_type": "markdown",
   "metadata": {
    "id": "xJTe_FJqhd45"
   },
   "source": [
    "<div dir=\"rtl\">\n",
    "به منظور مقایسه مدل های مختلف مجموعه داده هایی که در اختیار داریم را به دو قسمت training و validation تقسیم می کنیم. از داده های مجموعه ی training برای آموزش مدل و تنظیم hyperparameters استفاده می کنیم و از مجموعه validation برای مقایسه عملکرد مدل های مختلف کمک می گیریم. عملیات تقسیم را به این صورت انجام میدهیم که ۲۰ درصد از کل داده ها را بعنوان مجموعه validation در نظر می گیریم و بقیه داده ها را بعنوان مجموعه training.\n",
    "<br />\n",
    "training: ۶۰۴ × ۷۵۳\n",
    "<br />\n",
    "validation: ۱۵۲ × ۷۵۳\n",
    "</div>"
   ]
  },
  {
   "cell_type": "code",
   "execution_count": 5,
   "metadata": {
    "colab": {
     "base_uri": "https://localhost:8080/"
    },
    "id": "lTwXH-96f1fU",
    "outputId": "f9aab49a-9c53-4b08-875b-68e2ac00ec5b"
   },
   "outputs": [
    {
     "data": {
      "text/plain": [
       "((604, 753), (152, 753))"
      ]
     },
     "execution_count": 5,
     "metadata": {
      "tags": []
     },
     "output_type": "execute_result"
    }
   ],
   "source": [
    "from sklearn.model_selection import train_test_split\n",
    "\n",
    "X, X_val, y, y_val = train_test_split(X_all, y_all, test_size=0.2, random_state=85)\n",
    "\n",
    "X.shape, X_val.shape"
   ]
  },
  {
   "cell_type": "markdown",
   "metadata": {
    "id": "JZ2GvaEcVIo1"
   },
   "source": [
    "# Resampling Data"
   ]
  },
  {
   "cell_type": "markdown",
   "metadata": {
    "id": "U4KQYbzEjeXH"
   },
   "source": [
    "<div dir=\"rtl\">\n",
    "با توجه به نامتعادل بودن تعداد داده های دو کلاس Parkinson Disease و Health Control به منظور افزایش کیفیت طبقه بند عملیات oversampling را برای کلاس Health Control که تعداد کمتری دارد انجام می دهیم. پس از انجام oversampling تعداد داده های دو کلاس با هم برابر می شوند.\n",
    "</div>\n",
    "\n",
    "<br />\n",
    "\n",
    "<div dir=\"rtl\">\n",
    "دقت شود که عملیات oversampling تنها به روی داده های training انجام می شود و مجموعه validation بدون تغییر باقی می ماند. یا توجه به نامتعادل بودن تعداد داده های دو کلاس PD و HC در مجموعه validation علاوه بر معیار accuracy از معیار f1 score و confusion matrix نیز استفاده می کنیم\n",
    "</div>"
   ]
  },
  {
   "cell_type": "code",
   "execution_count": 6,
   "metadata": {
    "colab": {
     "base_uri": "https://localhost:8080/"
    },
    "id": "6Cc9414lKotY",
    "outputId": "1f978fed-078d-4cea-a0f9-e817f6d84cb0"
   },
   "outputs": [
    {
     "data": {
      "text/plain": [
       "((450, 753), (450, 753))"
      ]
     },
     "execution_count": 6,
     "metadata": {
      "tags": []
     },
     "output_type": "execute_result"
    }
   ],
   "source": [
    "from imblearn.over_sampling import RandomOverSampler\n",
    "\n",
    "# over-sampling\n",
    "ros = RandomOverSampler(random_state=85)\n",
    "X, y = ros.fit_resample(X, y)\n",
    "\n",
    "X[y==0].shape, X[y==1].shape"
   ]
  },
  {
   "cell_type": "markdown",
   "metadata": {
    "id": "aI59oqfVuTD0"
   },
   "source": [
    "<div dir=\"rtl\">\n",
    "از آنجا که این فایل مربوط به گزارش نهایی می باشد از آوردن تمامی حالت های خواسته شده برای پروژه نهایی خودداری شده است و فقط حالت های مناسب ذکر شده است.\n",
    "\n",
    "<br />\n",
    "برای مشاهده پیاده سازی و بررسی تمامی حالت ها به فایل ML Final Project.ipynb مراجعه شود\n",
    "</div>"
   ]
  },
  {
   "cell_type": "markdown",
   "metadata": {
    "id": "aWV0_WNMzeuP"
   },
   "source": [
    "# Classification without Dimensionality Reduction"
   ]
  },
  {
   "cell_type": "markdown",
   "metadata": {
    "id": "zX-5H9qFWORR"
   },
   "source": [
    "## Generative"
   ]
  },
  {
   "cell_type": "markdown",
   "metadata": {
    "id": "X7Kl4nnvWORY"
   },
   "source": [
    "### Parzen"
   ]
  },
  {
   "cell_type": "markdown",
   "metadata": {
    "id": "Gn8vrQknWORa"
   },
   "source": [
    "<div dir=\"rtl\">\n",
    "در این قسمت با استفاده از روش تخمین ناپارامتری Parzen Window اقدام به ساختن یک طبقه بند Bayes Optimal Classifier می کنیم. با توجه به اینکه تعداد داده ها دو کلاس PD و HC در مجموعه training برابر می باشد احتمال پیشین مربوط به دو کلاس را برابر در نظر می گیریم.\n",
    "<br />\n",
    "برای ساخت طبقه بند تخمین Parzen را با پنجره ی gaussian در نظر می گیریم و برای بدست آوردن bandwidth بهینه از روش k-fold (k=4) بعنوان cross validation استفاده می کنیم.\n",
    "</div>"
   ]
  },
  {
   "cell_type": "code",
   "execution_count": 7,
   "metadata": {
    "id": "No08m2cIWORc"
   },
   "outputs": [],
   "source": [
    "import numpy as np\n",
    "\n",
    "from sklearn.model_selection import KFold\n",
    "from sklearn.neighbors import KernelDensity\n",
    "from sklearn.metrics import accuracy_score\n",
    "from sklearn.metrics import f1_score\n",
    "\n",
    "bws = np.linspace(0.1, 1, 10)\n",
    "accs = []\n",
    "f1s = []\n",
    "for bw in bws:\n",
    "  kf = KFold(n_splits=4, shuffle=True, random_state=85)\n",
    "\n",
    "  accs_cv = []\n",
    "  f1s_cv = []\n",
    "  for train_index, test_index in kf.split(X):\n",
    "    X_train, X_test = X[train_index], X[test_index]\n",
    "    y_train, y_test = y[train_index], y[test_index]\n",
    "\n",
    "    kde0 = KernelDensity(kernel='gaussian', bandwidth=bw).fit(X_train[y_train==0])\n",
    "    kde1 = KernelDensity(kernel='gaussian', bandwidth=bw).fit(X_train[y_train==1])\n",
    "\n",
    "    prob0 = kde0.score_samples(X_test)\n",
    "    prob1 = kde1.score_samples(X_test)\n",
    "    y_pred = (prob1 >= prob0).astype('int8')\n",
    "    accs_cv.append(accuracy_score(y_test, y_pred))\n",
    "    f1s_cv.append(f1_score(y_test, y_pred))\n",
    "\n",
    "  accs.append(accs_cv)\n",
    "  f1s.append(f1s_cv)"
   ]
  },
  {
   "cell_type": "markdown",
   "metadata": {
    "id": "0cL8gxwaWORd"
   },
   "source": [
    "<div dir=\"rtl\">\n",
    "با توجه به اینکه تعداد داده های دو کلاس متعادل هستند تنها از معیار accuracy برای انتخاب مقدار بهینه bandwidth استفاده می کنیم. همانطور که در شکل زیر مشاهده می شود مقدار بهینه bandwidth برابر 0.4 می باشد. (این مقدار بیشترین accuracy را بدون توجه به پراکندگی دارد) \n",
    "</div>"
   ]
  },
  {
   "cell_type": "code",
   "execution_count": 8,
   "metadata": {
    "colab": {
     "base_uri": "https://localhost:8080/",
     "height": 513
    },
    "id": "HhW-jY8pWORf",
    "outputId": "779b3cc4-a357-49c0-9d04-0524f04f6b90"
   },
   "outputs": [
    {
     "data": {
      "image/png": "[encoded data removed]",
      "text/plain": [
       "<Figure size 1152x576 with 1 Axes>"
      ]
     },
     "metadata": {
      "needs_background": "light",
      "tags": []
     },
     "output_type": "display_data"
    }
   ],
   "source": [
    "import numpy as np\n",
    "\n",
    "import matplotlib.pyplot as plt\n",
    "\n",
    "plt.figure(figsize=(16, 8))\n",
    "plt.title('Tunning Bandwidth hyperparameter')\n",
    "plt.xlabel('Bandwidth')\n",
    "plt.ylabel('Accuracy')\n",
    "plt.errorbar(bws, np.mean(accs, axis=1), np.std(accs, axis=1), label='Accuracy')\n",
    "plt.xticks(bws)\n",
    "plt.grid()\n",
    "\n",
    "criterion_acc = np.mean(accs, axis=1)\n",
    "idx_opt = np.argmax(criterion_acc)\n",
    "bw_optimal = bws[idx_opt]\n",
    "\n",
    "plt.scatter(bw_optimal, np.mean(accs, axis=1)[idx_opt], color='red', marker='s')\n",
    "\n",
    "plt.legend()\n",
    "plt.show()"
   ]
  },
  {
   "cell_type": "markdown",
   "metadata": {
    "id": "gDNRXBCTWORh"
   },
   "source": [
    "<div dir=\"rtl\">\n",
    "حال با استفاده از bandwidth بهینه اقدام به ساخت طبقه بند با تمام داده های آموزشی و ارزیابی آن با مجموعه validation می کنیم\n",
    "</div>"
   ]
  },
  {
   "cell_type": "code",
   "execution_count": 9,
   "metadata": {
    "id": "cCOSmiIxWORi"
   },
   "outputs": [],
   "source": [
    "from sklearn.neighbors import KernelDensity\n",
    "\n",
    "kde0 = KernelDensity(kernel='gaussian', bandwidth=bw_optimal).fit(X[y==0])\n",
    "kde1 = KernelDensity(kernel='gaussian', bandwidth=bw_optimal).fit(X[y==1])\n",
    "\n",
    "prob0 = kde0.score_samples(X_val)\n",
    "prob1 = kde1.score_samples(X_val)\n",
    "\n",
    "y_pred = (prob1 >= prob0).astype('int8')"
   ]
  },
  {
   "cell_type": "code",
   "execution_count": 10,
   "metadata": {
    "colab": {
     "base_uri": "https://localhost:8080/",
     "height": 451
    },
    "id": "AQUitNyhWORj",
    "outputId": "bd685789-4458-4787-bca5-28716e16ee92"
   },
   "outputs": [
    {
     "name": "stdout",
     "output_type": "stream",
     "text": [
      "              precision    recall  f1-score   support\n",
      "\n",
      "          HC     0.8919    0.8684    0.8800        38\n",
      "          PD     0.9565    0.9649    0.9607       114\n",
      "\n",
      "    accuracy                         0.9408       152\n",
      "   macro avg     0.9242    0.9167    0.9203       152\n",
      "weighted avg     0.9404    0.9408    0.9405       152\n",
      "\n"
     ]
    },
    {
     "data": {
      "image/png": "[encoded data removed]",
      "text/plain": [
       "<Figure size 432x288 with 2 Axes>"
      ]
     },
     "metadata": {
      "needs_background": "light",
      "tags": []
     },
     "output_type": "display_data"
    }
   ],
   "source": [
    "from sklearn.metrics import confusion_matrix\n",
    "from sklearn.metrics import classification_report\n",
    "\n",
    "parzen_report = classification_report(y_val, y_pred, target_names=['HC', 'PD'],\n",
    "                                      digits=4, output_dict=True)\n",
    "print(classification_report(y_val, y_pred, target_names=['HC', 'PD'], digits=4))\n",
    "\n",
    "cm = confusion_matrix(y_val, y_pred)  \n",
    "plot_confusion_matrix(cm, ['HC', 'PD'])"
   ]
  },
  {
   "cell_type": "markdown",
   "metadata": {
    "id": "sgyqyJjVWORk"
   },
   "source": [
    "## Discriminative"
   ]
  },
  {
   "cell_type": "markdown",
   "metadata": {
    "id": "zWHCAtoNWORk"
   },
   "source": [
    "### SVM"
   ]
  },
  {
   "cell_type": "markdown",
   "metadata": {
    "id": "UEADlzypWORl"
   },
   "source": [
    "<div dir=\"rtl\">\n",
    "در این قسمت اقدام به ساخت طبقه بند SVM با kernel نمایی می کنیم. برای بدست آوردن مقدار بهینه برای degree از روش k-fold(k=4) بعنوان cross validation استفاده می کنیم.\n",
    "</div>"
   ]
  },
  {
   "cell_type": "code",
   "execution_count": 11,
   "metadata": {
    "id": "mSQV7ldpWORm"
   },
   "outputs": [],
   "source": [
    "from sklearn.model_selection import KFold\n",
    "from sklearn.model_selection import cross_validate\n",
    "from sklearn.svm import SVC\n",
    "\n",
    "degress = range(1, 15)\n",
    "accs = []\n",
    "f1s = []\n",
    "for d in degress:\n",
    "  svm = SVC(kernel='poly', degree=d)\n",
    "  cv = KFold(n_splits=4, shuffle=True, random_state=85)\n",
    "  cv_results = cross_validate(svm, X, y, cv=cv, scoring=('accuracy', 'f1'))\n",
    "\n",
    "  accs.append(cv_results['test_accuracy'])\n",
    "  f1s.append(cv_results['test_f1'])"
   ]
  },
  {
   "cell_type": "markdown",
   "metadata": {
    "id": "BjetZPMyWORm"
   },
   "source": [
    "<div dir=\"rtl\">\n",
    "با توجه به اینکه تعداد داده های دو کلاس متعادل هستند تنها از معیار accuracy برای انتخاب مقدار بهینه degree استفاده می کنیم. همانطور که در شکل زیر مشاهده می شود مقدار بهینه degree برابر 14 می باشد. (این مقدار بیشترین accuracy را بدون توجه به پراکندگی دارد) \n",
    "</div>"
   ]
  },
  {
   "cell_type": "code",
   "execution_count": 12,
   "metadata": {
    "colab": {
     "base_uri": "https://localhost:8080/",
     "height": 513
    },
    "id": "ubEIdOL5WORm",
    "outputId": "3253a0b9-74bf-4190-b537-2a10f94585e4"
   },
   "outputs": [
    {
     "data": {
      "image/png": "[encoded data removed]",
      "text/plain": [
       "<Figure size 1152x576 with 1 Axes>"
      ]
     },
     "metadata": {
      "needs_background": "light",
      "tags": []
     },
     "output_type": "display_data"
    }
   ],
   "source": [
    "import numpy as np\n",
    "\n",
    "import matplotlib.pyplot as plt\n",
    "\n",
    "plt.figure(figsize=(16, 8))\n",
    "plt.title('Tunning Degree hyperparameter')\n",
    "plt.xlabel('Degree')\n",
    "plt.ylabel('Accuracy')\n",
    "plt.errorbar(degress, np.mean(accs, axis=1), np.std(accs, axis=1), label='Accuracy')\n",
    "plt.xticks(degress)\n",
    "plt.grid()\n",
    "\n",
    "criterion_acc = np.mean(accs, axis=1)\n",
    "idx_opt = np.argmax(criterion_acc)\n",
    "degree_optimal = degress[idx_opt]\n",
    "\n",
    "plt.scatter(degree_optimal, np.mean(accs, axis=1)[idx_opt], color='red', marker='s')\n",
    "\n",
    "plt.legend()\n",
    "plt.show()"
   ]
  },
  {
   "cell_type": "markdown",
   "metadata": {
    "id": "RQZ_nxT4WORn"
   },
   "source": [
    "<div dir=\"rtl\">\n",
    "حال با استفاده از degree بهینه اقدام به ساخت طبقه بند با تمام داده های آموزشی و ارزیابی آن با مجموعه validation می کنیم\n",
    "</div>"
   ]
  },
  {
   "cell_type": "code",
   "execution_count": 13,
   "metadata": {
    "id": "F0vLQckfWORn"
   },
   "outputs": [],
   "source": [
    "from sklearn.svm import SVC\n",
    "\n",
    "svm = SVC(kernel='poly', degree=degree_optimal)\n",
    "svm.fit(X, y)\n",
    "\n",
    "y_pred = svm.predict(X_val)"
   ]
  },
  {
   "cell_type": "code",
   "execution_count": 14,
   "metadata": {
    "colab": {
     "base_uri": "https://localhost:8080/",
     "height": 451
    },
    "id": "XmunyDU0WORo",
    "outputId": "17bc3094-2c8a-45aa-d9b5-e8b663643adc"
   },
   "outputs": [
    {
     "name": "stdout",
     "output_type": "stream",
     "text": [
      "              precision    recall  f1-score   support\n",
      "\n",
      "          HC     0.9355    0.7632    0.8406        38\n",
      "          PD     0.9256    0.9825    0.9532       114\n",
      "\n",
      "    accuracy                         0.9276       152\n",
      "   macro avg     0.9306    0.8728    0.8969       152\n",
      "weighted avg     0.9281    0.9276    0.9250       152\n",
      "\n"
     ]
    },
    {
     "data": {
      "image/png": "[encoded data removed]",
      "text/plain": [
       "<Figure size 432x288 with 2 Axes>"
      ]
     },
     "metadata": {
      "needs_background": "light",
      "tags": []
     },
     "output_type": "display_data"
    }
   ],
   "source": [
    "from sklearn.metrics import confusion_matrix\n",
    "from sklearn.metrics import classification_report\n",
    "\n",
    "svm_report = classification_report(y_val, y_pred, target_names=['HC', 'PD'],\n",
    "                                   digits=4, output_dict=True)\n",
    "print(classification_report(y_val, y_pred, target_names=['HC', 'PD'], digits=4))\n",
    "\n",
    "cm = confusion_matrix(y_val, y_pred)  \n",
    "plot_confusion_matrix(cm, ['HC', 'PD'])"
   ]
  },
  {
   "cell_type": "markdown",
   "metadata": {
    "id": "Qh9j-WVcWORo"
   },
   "source": [
    "### KNN Classifier"
   ]
  },
  {
   "cell_type": "markdown",
   "metadata": {
    "id": "zdK_lBfzWORo"
   },
   "source": [
    "<div dir=\"rtl\">\n",
    "در این قسمت اقدام به ساخت طبقه بند KNN می کنیم و برای بدست آوردن تعداد بهینه neighbor از روش k-fold(k=4) بعنوان cross validation استفاده می کنیم\n",
    "</div>"
   ]
  },
  {
   "cell_type": "code",
   "execution_count": 15,
   "metadata": {
    "id": "urODIRzhWORp"
   },
   "outputs": [],
   "source": [
    "from sklearn.model_selection import KFold\n",
    "from sklearn.model_selection import cross_validate\n",
    "from sklearn.neighbors import KNeighborsClassifier\n",
    "\n",
    "neighbors = range(1, 10)\n",
    "accs = []\n",
    "f1s = []\n",
    "for k in neighbors:\n",
    "  knn = KNeighborsClassifier(n_neighbors=k)\n",
    "  cv = KFold(n_splits=4, shuffle=True, random_state=85)\n",
    "  cv_results = cross_validate(knn, X, y, cv=cv, scoring=('accuracy', 'f1'))\n",
    "\n",
    "  accs.append(cv_results['test_accuracy'])\n",
    "  f1s.append(cv_results['test_f1'])"
   ]
  },
  {
   "cell_type": "markdown",
   "metadata": {
    "id": "tNsUUe8YWORq"
   },
   "source": [
    "<div dir=\"rtl\">\n",
    "با توجه به اینکه تعداد داده های دو کلاس متعادل هستند تنها از معیار accuracy برای انتخاب مقدار بهینه neighbor استفاده می کنیم. همانطور که در شکل زیر مشاهده می شود مقدار بهینه neighbor برابر 1 می باشد. (این مقدار بیشترین accuracy را بدون توجه به پراکندگی دارد) \n",
    "</div>"
   ]
  },
  {
   "cell_type": "code",
   "execution_count": 16,
   "metadata": {
    "colab": {
     "base_uri": "https://localhost:8080/",
     "height": 513
    },
    "id": "kxG9zyIHWORq",
    "outputId": "221b0f9f-54f9-4459-da75-9b508f54eeb3"
   },
   "outputs": [
    {
     "data": {
      "image/png": "[encoded data removed]",
      "text/plain": [
       "<Figure size 1152x576 with 1 Axes>"
      ]
     },
     "metadata": {
      "needs_background": "light",
      "tags": []
     },
     "output_type": "display_data"
    }
   ],
   "source": [
    "import numpy as np\n",
    "\n",
    "import matplotlib.pyplot as plt\n",
    "\n",
    "plt.figure(figsize=(16, 8))\n",
    "plt.title('Tunning Neighbors hyperparameter')\n",
    "plt.xlabel('Neighbors')\n",
    "plt.ylabel('Accuracy')\n",
    "plt.errorbar(neighbors, np.mean(accs, axis=1), np.std(accs, axis=1), label='Accuracy')\n",
    "plt.xticks(neighbors)\n",
    "plt.grid()\n",
    "\n",
    "criterion_acc = np.mean(accs, axis=1)\n",
    "idx_opt = np.argmax(criterion_acc)\n",
    "neighbor_optimal = neighbors[idx_opt]\n",
    "\n",
    "plt.scatter(neighbor_optimal, np.mean(accs, axis=1)[idx_opt], color='red', marker='s')\n",
    "\n",
    "plt.legend()\n",
    "plt.show()"
   ]
  },
  {
   "cell_type": "markdown",
   "metadata": {
    "id": "FYG5oQKaWORq"
   },
   "source": [
    "<div dir=\"rtl\">\n",
    "حال با استفاده از neighbor بهینه اقدام به ساخت طبقه بند با تمام داده های آموزشی و ارزیابی آن با مجموعه validation می کنیم\n",
    "</div>"
   ]
  },
  {
   "cell_type": "code",
   "execution_count": 17,
   "metadata": {
    "id": "YGMWlvgFWORq"
   },
   "outputs": [],
   "source": [
    "from sklearn.neighbors import KNeighborsClassifier\n",
    "\n",
    "knn = KNeighborsClassifier(n_neighbors=neighbor_optimal)\n",
    "knn.fit(X, y)\n",
    "\n",
    "y_pred = knn.predict(X_val)"
   ]
  },
  {
   "cell_type": "code",
   "execution_count": 18,
   "metadata": {
    "colab": {
     "base_uri": "https://localhost:8080/",
     "height": 451
    },
    "id": "znHqpTViWORq",
    "outputId": "2c603bfc-e220-4704-9e16-cabfcd203e33"
   },
   "outputs": [
    {
     "name": "stdout",
     "output_type": "stream",
     "text": [
      "              precision    recall  f1-score   support\n",
      "\n",
      "          HC     0.9091    0.7895    0.8451        38\n",
      "          PD     0.9328    0.9737    0.9528       114\n",
      "\n",
      "    accuracy                         0.9276       152\n",
      "   macro avg     0.9209    0.8816    0.8989       152\n",
      "weighted avg     0.9269    0.9276    0.9259       152\n",
      "\n"
     ]
    },
    {
     "data": {
      "image/png": "[encoded data removed]",
      "text/plain": [
       "<Figure size 432x288 with 2 Axes>"
      ]
     },
     "metadata": {
      "needs_background": "light",
      "tags": []
     },
     "output_type": "display_data"
    }
   ],
   "source": [
    "from sklearn.metrics import confusion_matrix\n",
    "from sklearn.metrics import classification_report\n",
    "\n",
    "knn_report = classification_report(y_val, y_pred, target_names=['HC', 'PD'],\n",
    "                                   digits=4, output_dict=True)\n",
    "print(classification_report(y_val, y_pred, target_names=['HC', 'PD'], digits=4))\n",
    "\n",
    "cm = confusion_matrix(y_val, y_pred)  \n",
    "plot_confusion_matrix(cm, ['HC', 'PD'])"
   ]
  },
  {
   "cell_type": "markdown",
   "metadata": {
    "id": "wS1PczrO-FMQ"
   },
   "source": [
    "# Classification with Dimensionality Reduction"
   ]
  },
  {
   "cell_type": "markdown",
   "metadata": {
    "id": "9mbaUSyj-IhO"
   },
   "source": [
    "<div dir=\"rtl\">\n",
    "با توجه به اینکه تعداد ابعاد بردار ویژگی بسیار زیاد می باشد و با مشکل curse of dimensionality رو به رو هستیم نیاز به استفاده از روش های dimensionality reduction به منظور رسیدن به مدل robust تر هستیم.\n",
    "<br />\n",
    "روش نهایی انتخاب شده برای کاهش بعد ترکیبی از دو روش autoencoder و pca می باشد. به این صورت که ابتدا با استفاده از روش autoencoder تعداد ابعاد بردار ویژگی را به ۱۸۸ کاهش می دهیم (تقسیم بر ۴ میکنیم) و در نهایت از بین این ۱۸۸ ویژگی با استفاده از روش pca ۲۰ ویژگی را انتخاب می کنیم\n",
    "</div>"
   ]
  },
  {
   "cell_type": "code",
   "execution_count": 19,
   "metadata": {
    "colab": {
     "base_uri": "https://localhost:8080/"
    },
    "id": "i8vaYMahIUwv",
    "outputId": "fa890682-9483-4442-a9ef-4c5518386ae2"
   },
   "outputs": [
    {
     "name": "stdout",
     "output_type": "stream",
     "text": [
      "Epoch 1/100\n",
      "43/43 [==============================] - 2s 24ms/step - loss: 0.2518 - val_loss: 0.0382\n",
      "Epoch 2/100\n",
      "43/43 [==============================] - 1s 15ms/step - loss: 0.0265 - val_loss: 0.0523\n",
      "Epoch 3/100\n",
      "43/43 [==============================] - 1s 15ms/step - loss: 0.0201 - val_loss: 0.0371\n",
      "Epoch 4/100\n",
      "43/43 [==============================] - 1s 15ms/step - loss: 0.0198 - val_loss: 0.0201\n",
      "Epoch 5/100\n",
      "43/43 [==============================] - 1s 15ms/step - loss: 0.0159 - val_loss: 0.0257\n",
      "Epoch 6/100\n",
      "43/43 [==============================] - 1s 15ms/step - loss: 0.0177 - val_loss: 0.0143\n",
      "Epoch 7/100\n",
      "43/43 [==============================] - 1s 15ms/step - loss: 0.0134 - val_loss: 0.0206\n",
      "Epoch 8/100\n",
      "43/43 [==============================] - 1s 15ms/step - loss: 0.0173 - val_loss: 0.0129\n",
      "Epoch 9/100\n",
      "43/43 [==============================] - 1s 16ms/step - loss: 0.0122 - val_loss: 0.0151\n",
      "Epoch 10/100\n",
      "43/43 [==============================] - 1s 16ms/step - loss: 0.0129 - val_loss: 0.0223\n",
      "Epoch 11/100\n",
      "43/43 [==============================] - 1s 15ms/step - loss: 0.0161 - val_loss: 0.0142\n",
      "Epoch 12/100\n",
      "43/43 [==============================] - 1s 16ms/step - loss: 0.0126 - val_loss: 0.0232\n",
      "Epoch 13/100\n",
      "43/43 [==============================] - 1s 15ms/step - loss: 0.0137 - val_loss: 0.0118\n",
      "Epoch 14/100\n",
      "43/43 [==============================] - 1s 15ms/step - loss: 0.0115 - val_loss: 0.0157\n",
      "Epoch 15/100\n",
      "43/43 [==============================] - 1s 15ms/step - loss: 0.0140 - val_loss: 0.0188\n",
      "Epoch 16/100\n",
      "43/43 [==============================] - 1s 18ms/step - loss: 0.0152 - val_loss: 0.0169\n",
      "Epoch 17/100\n",
      "43/43 [==============================] - 1s 15ms/step - loss: 0.0123 - val_loss: 0.0129\n",
      "Epoch 18/100\n",
      "43/43 [==============================] - 1s 15ms/step - loss: 0.0115 - val_loss: 0.0143\n",
      "Epoch 19/100\n",
      "43/43 [==============================] - 1s 15ms/step - loss: 0.0119 - val_loss: 0.0113\n",
      "Epoch 20/100\n",
      "43/43 [==============================] - 1s 15ms/step - loss: 0.0105 - val_loss: 0.0126\n",
      "Epoch 21/100\n",
      "43/43 [==============================] - 1s 15ms/step - loss: 0.0121 - val_loss: 0.0119\n",
      "Epoch 22/100\n",
      "43/43 [==============================] - 1s 15ms/step - loss: 0.0103 - val_loss: 0.0092\n",
      "Epoch 23/100\n",
      "43/43 [==============================] - 1s 15ms/step - loss: 0.0106 - val_loss: 0.0149\n",
      "Epoch 24/100\n",
      "43/43 [==============================] - 1s 16ms/step - loss: 0.0150 - val_loss: 0.0290\n",
      "Epoch 25/100\n",
      "43/43 [==============================] - 1s 15ms/step - loss: 0.0140 - val_loss: 0.0189\n",
      "Epoch 26/100\n",
      "43/43 [==============================] - 1s 15ms/step - loss: 0.0104 - val_loss: 0.0191\n",
      "Epoch 27/100\n",
      "43/43 [==============================] - 1s 16ms/step - loss: 0.0114 - val_loss: 0.0138\n",
      "Epoch 28/100\n",
      "43/43 [==============================] - 1s 15ms/step - loss: 0.0101 - val_loss: 0.0117\n",
      "Epoch 29/100\n",
      "43/43 [==============================] - 1s 16ms/step - loss: 0.0096 - val_loss: 0.0099\n",
      "Epoch 30/100\n",
      "43/43 [==============================] - 1s 15ms/step - loss: 0.0082 - val_loss: 0.0113\n",
      "Epoch 31/100\n",
      "43/43 [==============================] - 1s 15ms/step - loss: 0.0106 - val_loss: 0.0144\n",
      "Epoch 32/100\n",
      "43/43 [==============================] - 1s 15ms/step - loss: 0.0087 - val_loss: 0.0105\n",
      "Epoch 33/100\n",
      "43/43 [==============================] - 1s 16ms/step - loss: 0.0078 - val_loss: 0.0075\n",
      "Epoch 34/100\n",
      "43/43 [==============================] - 1s 15ms/step - loss: 0.0073 - val_loss: 0.0080\n",
      "Epoch 35/100\n",
      "43/43 [==============================] - 1s 16ms/step - loss: 0.0078 - val_loss: 0.0074\n",
      "Epoch 36/100\n",
      "43/43 [==============================] - 1s 16ms/step - loss: 0.0073 - val_loss: 0.0084\n",
      "Epoch 37/100\n",
      "43/43 [==============================] - 1s 15ms/step - loss: 0.0073 - val_loss: 0.0084\n",
      "Epoch 38/100\n",
      "43/43 [==============================] - 1s 15ms/step - loss: 0.0078 - val_loss: 0.0074\n",
      "Epoch 39/100\n",
      "43/43 [==============================] - 1s 15ms/step - loss: 0.0066 - val_loss: 0.0068\n",
      "Epoch 40/100\n",
      "43/43 [==============================] - 1s 15ms/step - loss: 0.0065 - val_loss: 0.0106\n",
      "Epoch 41/100\n",
      "43/43 [==============================] - 1s 15ms/step - loss: 0.0097 - val_loss: 0.0091\n",
      "Epoch 42/100\n",
      "43/43 [==============================] - 1s 15ms/step - loss: 0.0074 - val_loss: 0.0067\n",
      "Epoch 43/100\n",
      "43/43 [==============================] - 1s 15ms/step - loss: 0.0067 - val_loss: 0.0063\n",
      "Epoch 44/100\n",
      "43/43 [==============================] - 1s 15ms/step - loss: 0.0067 - val_loss: 0.0089\n",
      "Epoch 45/100\n",
      "43/43 [==============================] - 1s 15ms/step - loss: 0.0071 - val_loss: 0.0074\n",
      "Epoch 46/100\n",
      "43/43 [==============================] - 1s 14ms/step - loss: 0.0075 - val_loss: 0.0059\n",
      "Epoch 47/100\n",
      "43/43 [==============================] - 1s 15ms/step - loss: 0.0063 - val_loss: 0.0070\n",
      "Epoch 48/100\n",
      "43/43 [==============================] - 1s 15ms/step - loss: 0.0070 - val_loss: 0.0069\n",
      "Epoch 49/100\n",
      "43/43 [==============================] - 1s 15ms/step - loss: 0.0065 - val_loss: 0.0060\n",
      "Epoch 50/100\n",
      "43/43 [==============================] - 1s 16ms/step - loss: 0.0065 - val_loss: 0.0086\n",
      "Epoch 51/100\n",
      "43/43 [==============================] - 1s 15ms/step - loss: 0.0074 - val_loss: 0.0069\n",
      "Epoch 52/100\n",
      "43/43 [==============================] - 1s 15ms/step - loss: 0.0058 - val_loss: 0.0061\n",
      "Epoch 53/100\n",
      "43/43 [==============================] - 1s 15ms/step - loss: 0.0058 - val_loss: 0.0074\n",
      "Epoch 54/100\n",
      "43/43 [==============================] - 1s 15ms/step - loss: 0.0065 - val_loss: 0.0070\n",
      "Epoch 55/100\n",
      "43/43 [==============================] - 1s 16ms/step - loss: 0.0067 - val_loss: 0.0074\n",
      "Epoch 56/100\n",
      "43/43 [==============================] - 1s 15ms/step - loss: 0.0071 - val_loss: 0.0057\n",
      "Epoch 57/100\n",
      "43/43 [==============================] - 1s 15ms/step - loss: 0.0053 - val_loss: 0.0060\n",
      "Epoch 58/100\n",
      "43/43 [==============================] - 1s 15ms/step - loss: 0.0056 - val_loss: 0.0055\n",
      "Epoch 59/100\n",
      "43/43 [==============================] - 1s 15ms/step - loss: 0.0053 - val_loss: 0.0064\n",
      "Epoch 60/100\n",
      "43/43 [==============================] - 1s 16ms/step - loss: 0.0063 - val_loss: 0.0072\n",
      "Epoch 61/100\n",
      "43/43 [==============================] - 1s 15ms/step - loss: 0.0065 - val_loss: 0.0063\n",
      "Epoch 62/100\n",
      "43/43 [==============================] - 1s 15ms/step - loss: 0.0058 - val_loss: 0.0057\n",
      "Epoch 63/100\n",
      "43/43 [==============================] - 1s 15ms/step - loss: 0.0052 - val_loss: 0.0065\n",
      "Epoch 64/100\n",
      "43/43 [==============================] - 1s 16ms/step - loss: 0.0056 - val_loss: 0.0052\n",
      "Epoch 65/100\n",
      "43/43 [==============================] - 1s 15ms/step - loss: 0.0050 - val_loss: 0.0057\n",
      "Epoch 66/100\n",
      "43/43 [==============================] - 1s 15ms/step - loss: 0.0055 - val_loss: 0.0060\n",
      "Epoch 67/100\n",
      "43/43 [==============================] - 1s 15ms/step - loss: 0.0055 - val_loss: 0.0066\n",
      "Epoch 68/100\n",
      "43/43 [==============================] - 1s 15ms/step - loss: 0.0057 - val_loss: 0.0047\n",
      "Epoch 69/100\n",
      "43/43 [==============================] - 1s 15ms/step - loss: 0.0045 - val_loss: 0.0046\n",
      "Epoch 70/100\n",
      "43/43 [==============================] - 1s 15ms/step - loss: 0.0048 - val_loss: 0.0049\n",
      "Epoch 71/100\n",
      "43/43 [==============================] - 1s 15ms/step - loss: 0.0052 - val_loss: 0.0058\n",
      "Epoch 72/100\n",
      "43/43 [==============================] - 1s 15ms/step - loss: 0.0053 - val_loss: 0.0062\n",
      "Epoch 73/100\n",
      "43/43 [==============================] - 1s 15ms/step - loss: 0.0060 - val_loss: 0.0074\n",
      "Epoch 74/100\n",
      "43/43 [==============================] - 1s 18ms/step - loss: 0.0058 - val_loss: 0.0082\n",
      "Epoch 75/100\n",
      "43/43 [==============================] - 1s 15ms/step - loss: 0.0076 - val_loss: 0.0079\n",
      "Epoch 76/100\n",
      "43/43 [==============================] - 1s 15ms/step - loss: 0.0053 - val_loss: 0.0068\n",
      "Epoch 77/100\n",
      "43/43 [==============================] - 1s 15ms/step - loss: 0.0064 - val_loss: 0.0073\n",
      "Epoch 78/100\n",
      "43/43 [==============================] - 1s 15ms/step - loss: 0.0053 - val_loss: 0.0061\n",
      "Epoch 79/100\n",
      "43/43 [==============================] - 1s 15ms/step - loss: 0.0055 - val_loss: 0.0054\n",
      "Epoch 80/100\n",
      "43/43 [==============================] - 1s 16ms/step - loss: 0.0050 - val_loss: 0.0062\n",
      "Epoch 81/100\n",
      "43/43 [==============================] - 1s 15ms/step - loss: 0.0047 - val_loss: 0.0050\n",
      "Epoch 82/100\n",
      "43/43 [==============================] - 1s 15ms/step - loss: 0.0045 - val_loss: 0.0048\n",
      "Epoch 83/100\n",
      "43/43 [==============================] - 1s 16ms/step - loss: 0.0043 - val_loss: 0.0047\n",
      "Epoch 84/100\n",
      "43/43 [==============================] - 1s 15ms/step - loss: 0.0044 - val_loss: 0.0056\n",
      "Epoch 85/100\n",
      "43/43 [==============================] - 1s 15ms/step - loss: 0.0070 - val_loss: 0.0081\n",
      "Epoch 86/100\n",
      "43/43 [==============================] - 1s 15ms/step - loss: 0.0051 - val_loss: 0.0053\n",
      "Epoch 87/100\n",
      "43/43 [==============================] - 1s 15ms/step - loss: 0.0046 - val_loss: 0.0050\n",
      "Epoch 88/100\n",
      "43/43 [==============================] - 1s 15ms/step - loss: 0.0048 - val_loss: 0.0061\n",
      "Epoch 89/100\n",
      "43/43 [==============================] - 1s 15ms/step - loss: 0.0053 - val_loss: 0.0060\n",
      "Epoch 90/100\n",
      "43/43 [==============================] - 1s 15ms/step - loss: 0.0047 - val_loss: 0.0051\n",
      "Epoch 91/100\n",
      "43/43 [==============================] - 1s 15ms/step - loss: 0.0042 - val_loss: 0.0041\n",
      "Epoch 92/100\n",
      "43/43 [==============================] - 1s 15ms/step - loss: 0.0042 - val_loss: 0.0048\n",
      "Epoch 93/100\n",
      "43/43 [==============================] - 1s 15ms/step - loss: 0.0045 - val_loss: 0.0050\n",
      "Epoch 94/100\n",
      "43/43 [==============================] - 1s 15ms/step - loss: 0.0052 - val_loss: 0.0051\n",
      "Epoch 95/100\n",
      "43/43 [==============================] - 1s 15ms/step - loss: 0.0045 - val_loss: 0.0040\n",
      "Epoch 96/100\n",
      "43/43 [==============================] - 1s 15ms/step - loss: 0.0041 - val_loss: 0.0052\n",
      "Epoch 97/100\n",
      "43/43 [==============================] - 1s 15ms/step - loss: 0.0049 - val_loss: 0.0049\n",
      "Epoch 98/100\n",
      "43/43 [==============================] - 1s 16ms/step - loss: 0.0046 - val_loss: 0.0051\n",
      "Epoch 99/100\n",
      "43/43 [==============================] - 1s 15ms/step - loss: 0.0041 - val_loss: 0.0040\n",
      "Epoch 100/100\n",
      "43/43 [==============================] - 1s 15ms/step - loss: 0.0038 - val_loss: 0.0048\n"
     ]
    }
   ],
   "source": [
    "from tensorflow.keras.models import Model\n",
    "from tensorflow.keras.layers import Input\n",
    "from tensorflow.keras.layers import Dense\n",
    "from tensorflow.keras.layers import LeakyReLU\n",
    "from tensorflow.keras.layers import BatchNormalization\n",
    "from tensorflow.keras.utils import plot_model\n",
    "\n",
    "X_train, X_test, y_train, y_test = train_test_split(X, y, test_size=0.25, random_state=85)\n",
    "\n",
    "# number of input columns\n",
    "n_inputs = X_train.shape[1]\n",
    "\n",
    "# define encoder\n",
    "visible = Input(shape=(n_inputs,))\n",
    "# encoder level 1\n",
    "e = Dense(n_inputs)(visible)\n",
    "e = BatchNormalization()(e)\n",
    "e = LeakyReLU()(e)\n",
    "# bottleneck\n",
    "n_bottleneck = round(float(n_inputs) / 4.0)\n",
    "bottleneck = Dense(n_bottleneck)(e)\n",
    "# define decoder, level 1\n",
    "d = Dense(n_inputs)(bottleneck)\n",
    "d = BatchNormalization()(d)\n",
    "d = LeakyReLU()(d)\n",
    "# output layer\n",
    "output = Dense(n_inputs, activation='linear')(d)\n",
    "\n",
    "# define autoencoder model\n",
    "model = Model(inputs=visible, outputs=output)\n",
    "# compile autoencoder model\n",
    "model.compile(optimizer='adam', loss='mse')\n",
    "\n",
    "# plot the autoencoder\n",
    "plot_model(model, 'autoencoder_compress.png', show_shapes=True)\n",
    "\n",
    "# fit the autoencoder model to reconstruct input\n",
    "history = model.fit(X_train, X_train, epochs=100, batch_size=16,\n",
    "                    validation_data=(X_test, X_test))"
   ]
  },
  {
   "cell_type": "code",
   "execution_count": 20,
   "metadata": {
    "colab": {
     "base_uri": "https://localhost:8080/",
     "height": 483
    },
    "id": "Om_NXUlPNKRb",
    "outputId": "e964aaa4-9b06-4c32-9ec3-73f2bbc3ebea"
   },
   "outputs": [
    {
     "data": {
      "image/png": "[encoded data removed]",
      "text/plain": [
       "<Figure size 1152x576 with 1 Axes>"
      ]
     },
     "metadata": {
      "needs_background": "light",
      "tags": []
     },
     "output_type": "display_data"
    }
   ],
   "source": [
    "# plot loss for checking convergence\n",
    "plt.figure(figsize=(16, 8))\n",
    "plt.plot(history.history['loss'], label='train')\n",
    "plt.plot(history.history['val_loss'], label='test')\n",
    "plt.legend()\n",
    "plt.show()"
   ]
  },
  {
   "cell_type": "code",
   "execution_count": 21,
   "metadata": {
    "id": "ggJAPyjfNNqk"
   },
   "outputs": [],
   "source": [
    "# define an encoder model (without the decoder)\n",
    "encoder = Model(inputs=visible, outputs=bottleneck)\n",
    "\n",
    "# save the encoder to file\n",
    "encoder.save('encoder.h5')"
   ]
  },
  {
   "cell_type": "code",
   "execution_count": 22,
   "metadata": {
    "colab": {
     "base_uri": "https://localhost:8080/"
    },
    "id": "tlj_ZFG8NQsf",
    "outputId": "978c5288-4e72-4ac9-f8df-d85f7d8f1d1c"
   },
   "outputs": [
    {
     "name": "stdout",
     "output_type": "stream",
     "text": [
      "WARNING:tensorflow:No training configuration found in the save file, so the model was *not* compiled. Compile it manually.\n"
     ]
    },
    {
     "data": {
      "text/plain": [
       "((900, 188), (152, 188))"
      ]
     },
     "execution_count": 22,
     "metadata": {
      "tags": []
     },
     "output_type": "execute_result"
    }
   ],
   "source": [
    "from tensorflow.keras.models import load_model\n",
    "\n",
    "# load the model from file\n",
    "encoder = load_model('encoder.h5')\n",
    "\n",
    "X_encode = encoder.predict(X)\n",
    "X_val_encode = encoder.predict(X_val)\n",
    "X_encode.shape, X_val_encode.shape"
   ]
  },
  {
   "cell_type": "code",
   "execution_count": 23,
   "metadata": {
    "colab": {
     "base_uri": "https://localhost:8080/"
    },
    "id": "G4fZS5KZtu3E",
    "outputId": "22356508-e5f6-46b9-b25e-7c816792a22a"
   },
   "outputs": [
    {
     "data": {
      "text/plain": [
       "((900, 20), (152, 20))"
      ]
     },
     "execution_count": 23,
     "metadata": {
      "tags": []
     },
     "output_type": "execute_result"
    }
   ],
   "source": [
    "from sklearn.decomposition import PCA\n",
    "\n",
    "pca = PCA(whiten=True, n_components=20)\n",
    "pca.fit(X_encode)\n",
    "\n",
    "X_encode_trans = pca.transform(X_encode)\n",
    "X_val_encode_trans = pca.transform(X_val_encode)\n",
    "X_encode_trans.shape, X_val_encode_trans.shape"
   ]
  },
  {
   "cell_type": "markdown",
   "metadata": {
    "id": "GeYczLC6e6Zx"
   },
   "source": [
    "## Generative"
   ]
  },
  {
   "cell_type": "markdown",
   "metadata": {
    "id": "Fkdz2aK7z5sm"
   },
   "source": [
    "### Parzen"
   ]
  },
  {
   "cell_type": "markdown",
   "metadata": {
    "id": "KEp05LOwvfqc"
   },
   "source": [
    "<div dir=\"rtl\">\n",
    "در این قسمت با استفاده از روش تخمین ناپارامتری Parzen Window اقدام به ساختن یک طبقه بند Bayes Optimal Classifier می کنیم. با توجه به اینکه تعداد داده ها دو کلاس PD و HC در مجموعه training برابر می باشد احتمال پیشین مربوط به دو کلاس را برابر در نظر می گیریم.\n",
    "<br />\n",
    "برای ساخت طبقه بند تخمین Parzen را با پنجره ی gaussian در نظر می گیریم و برای بدست آوردن bandwidth بهینه از روش k-fold (k=4) بعنوان cross validation استفاده می کنیم.\n",
    "</div>"
   ]
  },
  {
   "cell_type": "code",
   "execution_count": 24,
   "metadata": {
    "id": "_444yWnzCi9u"
   },
   "outputs": [],
   "source": [
    "import numpy as np\n",
    "\n",
    "from sklearn.model_selection import KFold\n",
    "from sklearn.neighbors import KernelDensity\n",
    "from sklearn.metrics import accuracy_score\n",
    "from sklearn.metrics import f1_score\n",
    "\n",
    "bws = np.linspace(0.1, 1, 10)\n",
    "accs = []\n",
    "f1s = []\n",
    "for bw in bws:\n",
    "  kf = KFold(n_splits=4, shuffle=True, random_state=85)\n",
    "\n",
    "  accs_cv = []\n",
    "  f1s_cv = []\n",
    "  for train_index, test_index in kf.split(X_encode_trans):\n",
    "    X_train, X_test = X_encode_trans[train_index], X_encode_trans[test_index]\n",
    "    y_train, y_test = y[train_index], y[test_index]\n",
    "\n",
    "    kde0 = KernelDensity(kernel='gaussian', bandwidth=bw).fit(X_train[y_train==0])\n",
    "    kde1 = KernelDensity(kernel='gaussian', bandwidth=bw).fit(X_train[y_train==1])\n",
    "\n",
    "    prob0 = kde0.score_samples(X_test)\n",
    "    prob1 = kde1.score_samples(X_test)\n",
    "    y_pred = (prob1 >= prob0).astype('int8')\n",
    "    accs_cv.append(accuracy_score(y_test, y_pred))\n",
    "    f1s_cv.append(f1_score(y_test, y_pred))\n",
    "\n",
    "  accs.append(accs_cv)\n",
    "  f1s.append(f1s_cv)"
   ]
  },
  {
   "cell_type": "markdown",
   "metadata": {
    "id": "4DlfHHr6xSXp"
   },
   "source": [
    "<div dir=\"rtl\">\n",
    "با توجه به اینکه تعداد داده های دو کلاس متعادل هستند تنها از معیار accuracy برای انتخاب مقدار بهینه bandwidth استفاده می کنیم. همانطور که در شکل زیر مشاهده می شود مقدار بهینه bandwidth برابر 0.6 می باشد. (این مقدار بیشترین accuracy را بدون توجه به پراکندگی دارد) \n",
    "</div>"
   ]
  },
  {
   "cell_type": "code",
   "execution_count": 25,
   "metadata": {
    "colab": {
     "base_uri": "https://localhost:8080/",
     "height": 513
    },
    "id": "XYusZTthEa5V",
    "outputId": "a6eb0c90-08e4-4998-8530-d335a22aa616"
   },
   "outputs": [
    {
     "data": {
      "image/png": "[encoded data removed]",
      "text/plain": [
       "<Figure size 1152x576 with 1 Axes>"
      ]
     },
     "metadata": {
      "needs_background": "light",
      "tags": []
     },
     "output_type": "display_data"
    }
   ],
   "source": [
    "import numpy as np\n",
    "\n",
    "import matplotlib.pyplot as plt\n",
    "\n",
    "plt.figure(figsize=(16, 8))\n",
    "plt.title('Tunning Bandwidth hyperparameter')\n",
    "plt.xlabel('Bandwidth')\n",
    "plt.ylabel('Accuracy')\n",
    "plt.errorbar(bws, np.mean(accs, axis=1), np.std(accs, axis=1), label='Accuracy')\n",
    "plt.xticks(bws)\n",
    "plt.grid()\n",
    "\n",
    "criterion_acc = np.mean(accs, axis=1)\n",
    "idx_opt = np.argmax(criterion_acc)\n",
    "bw_optimal = bws[idx_opt]\n",
    "\n",
    "plt.scatter(bw_optimal, np.mean(accs, axis=1)[idx_opt], color='red', marker='s')\n",
    "\n",
    "plt.legend()\n",
    "plt.show()"
   ]
  },
  {
   "cell_type": "markdown",
   "metadata": {
    "id": "wYOtWZJnyQjI"
   },
   "source": [
    "<div dir=\"rtl\">\n",
    "حال با استفاده از bandwidth بهینه اقدام به ساخت طبقه بند با تمام داده های آموزشی و ارزیابی آن با مجموعه validation می کنیم\n",
    "</div>"
   ]
  },
  {
   "cell_type": "code",
   "execution_count": 26,
   "metadata": {
    "id": "nW6F5DoRtQiA"
   },
   "outputs": [],
   "source": [
    "from sklearn.neighbors import KernelDensity\n",
    "\n",
    "kde0 = KernelDensity(kernel='gaussian', bandwidth=0.6).fit(X_encode_trans[y==0])\n",
    "kde1 = KernelDensity(kernel='gaussian', bandwidth=0.6).fit(X_encode_trans[y==1])\n",
    "\n",
    "prob0 = kde0.score_samples(X_val_encode_trans)\n",
    "prob1 = kde1.score_samples(X_val_encode_trans)\n",
    "\n",
    "y_pred = (prob1 >= prob0).astype('int8')"
   ]
  },
  {
   "cell_type": "code",
   "execution_count": 27,
   "metadata": {
    "colab": {
     "base_uri": "https://localhost:8080/",
     "height": 451
    },
    "id": "kA0Lb_XdvJUk",
    "outputId": "8d19d126-dddb-4b92-fd5a-b88db78ea080"
   },
   "outputs": [
    {
     "name": "stdout",
     "output_type": "stream",
     "text": [
      "              precision    recall  f1-score   support\n",
      "\n",
      "          HC     0.6977    0.7895    0.7407        38\n",
      "          PD     0.9266    0.8860    0.9058       114\n",
      "\n",
      "    accuracy                         0.8618       152\n",
      "   macro avg     0.8121    0.8377    0.8233       152\n",
      "weighted avg     0.8694    0.8618    0.8646       152\n",
      "\n"
     ]
    },
    {
     "data": {
      "image/png": "[encoded data removed]",
      "text/plain": [
       "<Figure size 432x288 with 2 Axes>"
      ]
     },
     "metadata": {
      "needs_background": "light",
      "tags": []
     },
     "output_type": "display_data"
    }
   ],
   "source": [
    "from sklearn.metrics import confusion_matrix\n",
    "from sklearn.metrics import classification_report\n",
    "\n",
    "dr_parzen_report = classification_report(y_val, y_pred, target_names=['HC', 'PD'],\n",
    "                                         digits=4, output_dict=True)\n",
    "print(classification_report(y_val, y_pred, target_names=['HC', 'PD'], digits=4))\n",
    "\n",
    "cm = confusion_matrix(y_val, y_pred)  \n",
    "plot_confusion_matrix(cm, ['HC', 'PD'])"
   ]
  },
  {
   "cell_type": "markdown",
   "metadata": {
    "id": "PXEDjKxBe_kL"
   },
   "source": [
    "## Discriminative"
   ]
  },
  {
   "cell_type": "markdown",
   "metadata": {
    "id": "17oloXtgpmeT"
   },
   "source": [
    "### KNN Classifier"
   ]
  },
  {
   "cell_type": "markdown",
   "metadata": {
    "id": "cSSIZwpt8uAP"
   },
   "source": [
    "<div dir=\"rtl\">\n",
    "در این قسمت اقدام به ساخت طبقه بند KNN می کنیم و برای بدست آوردن تعداد بهینه neighbor از روش k-fold(k=4) بعنوان cross validation استفاده می کنیم\n",
    "</div>"
   ]
  },
  {
   "cell_type": "code",
   "execution_count": 28,
   "metadata": {
    "id": "kqXJNPXEpmeV"
   },
   "outputs": [],
   "source": [
    "from sklearn.model_selection import KFold\n",
    "from sklearn.model_selection import cross_validate\n",
    "from sklearn.neighbors import KNeighborsClassifier\n",
    "\n",
    "neighbors = range(1, 10)\n",
    "accs = []\n",
    "f1s = []\n",
    "for k in neighbors:\n",
    "  knn = KNeighborsClassifier(n_neighbors=k)\n",
    "  cv = KFold(n_splits=4, shuffle=True, random_state=85)\n",
    "  cv_results = cross_validate(knn, X_encode_trans, y, cv=cv, scoring=('accuracy', 'f1'))\n",
    "\n",
    "  accs.append(cv_results['test_accuracy'])\n",
    "  f1s.append(cv_results['test_f1'])"
   ]
  },
  {
   "cell_type": "markdown",
   "metadata": {
    "id": "58qX0sW89duo"
   },
   "source": [
    "<div dir=\"rtl\">\n",
    "با توجه به اینکه تعداد داده های دو کلاس متعادل هستند تنها از معیار accuracy برای انتخاب مقدار بهینه neighbor استفاده می کنیم. همانطور که در شکل زیر مشاهده می شود مقدار بهینه neighbor برابر 1 می باشد. (این مقدار بیشترین accuracy را بدون توجه به پراکندگی دارد) \n",
    "</div>"
   ]
  },
  {
   "cell_type": "code",
   "execution_count": 29,
   "metadata": {
    "colab": {
     "base_uri": "https://localhost:8080/",
     "height": 513
    },
    "id": "fTmYvvnzpmeW",
    "outputId": "56d5fa47-2f97-480f-971e-d43e8a9bff4a"
   },
   "outputs": [
    {
     "data": {
      "image/png": "[encoded data removed]",
      "text/plain": [
       "<Figure size 1152x576 with 1 Axes>"
      ]
     },
     "metadata": {
      "needs_background": "light",
      "tags": []
     },
     "output_type": "display_data"
    }
   ],
   "source": [
    "import numpy as np\n",
    "\n",
    "import matplotlib.pyplot as plt\n",
    "\n",
    "plt.figure(figsize=(16, 8))\n",
    "plt.title('Tunning Neighbors hyperparameter')\n",
    "plt.xlabel('Neighbors')\n",
    "plt.ylabel('Accuracy')\n",
    "plt.errorbar(neighbors, np.mean(accs, axis=1), np.std(accs, axis=1), label='Accuracy')\n",
    "plt.xticks(neighbors)\n",
    "plt.grid()\n",
    "\n",
    "criterion_acc = np.mean(accs, axis=1)\n",
    "idx_opt = np.argmax(criterion_acc)\n",
    "neighbor_optimal = neighbors[idx_opt]\n",
    "\n",
    "plt.scatter(neighbor_optimal, np.mean(accs, axis=1)[idx_opt], color='red', marker='s')\n",
    "\n",
    "plt.legend()\n",
    "plt.show()"
   ]
  },
  {
   "cell_type": "markdown",
   "metadata": {
    "id": "WqJp3UuR9rFL"
   },
   "source": [
    "<div dir=\"rtl\">\n",
    "حال با استفاده از neighbor بهینه اقدام به ساخت طبقه بند با تمام داده های آموزشی و ارزیابی آن با مجموعه validation می کنیم\n",
    "</div>"
   ]
  },
  {
   "cell_type": "code",
   "execution_count": 30,
   "metadata": {
    "id": "abNlla-Fpmeb"
   },
   "outputs": [],
   "source": [
    "from sklearn.neighbors import KNeighborsClassifier\n",
    "\n",
    "knn = KNeighborsClassifier(n_neighbors=neighbor_optimal)\n",
    "knn.fit(X_encode_trans, y)\n",
    "\n",
    "y_pred = knn.predict(X_val_encode_trans)"
   ]
  },
  {
   "cell_type": "code",
   "execution_count": 31,
   "metadata": {
    "colab": {
     "base_uri": "https://localhost:8080/",
     "height": 451
    },
    "id": "nwucxMD2pmec",
    "outputId": "1d776ccb-d39b-48ce-b8bd-064b14066fc2"
   },
   "outputs": [
    {
     "name": "stdout",
     "output_type": "stream",
     "text": [
      "              precision    recall  f1-score   support\n",
      "\n",
      "          HC     0.7368    0.7368    0.7368        38\n",
      "          PD     0.9123    0.9123    0.9123       114\n",
      "\n",
      "    accuracy                         0.8684       152\n",
      "   macro avg     0.8246    0.8246    0.8246       152\n",
      "weighted avg     0.8684    0.8684    0.8684       152\n",
      "\n"
     ]
    },
    {
     "data": {
      "image/png": "[encoded data removed]",
      "text/plain": [
       "<Figure size 432x288 with 2 Axes>"
      ]
     },
     "metadata": {
      "needs_background": "light",
      "tags": []
     },
     "output_type": "display_data"
    }
   ],
   "source": [
    "from sklearn.metrics import confusion_matrix\n",
    "from sklearn.metrics import classification_report\n",
    "\n",
    "dr_knn_report = classification_report(y_val, y_pred, target_names=['HC', 'PD'],\n",
    "                                      digits=4, output_dict=True)\n",
    "print(classification_report(y_val, y_pred, target_names=['HC', 'PD'], digits=4))\n",
    "\n",
    "cm = confusion_matrix(y_val, y_pred)  \n",
    "plot_confusion_matrix(cm, ['HC', 'PD'])"
   ]
  },
  {
   "cell_type": "markdown",
   "metadata": {
    "id": "_Bp6WXPgNcZd"
   },
   "source": [
    "# Compare Models"
   ]
  },
  {
   "cell_type": "markdown",
   "metadata": {
    "id": "FoK0Wc0HNgdY"
   },
   "source": [
    "<div dir=\"rtl\">\n",
    "همان طور که در جدول زیر مشاهده می شود بهترین نتایج بدست آمده متعلق به حالتی است که Dimensionality Reduction نداشته و از طبقه بند Parzen استفاده می کنیم.\n",
    "</div>"
   ]
  },
  {
   "cell_type": "code",
   "execution_count": 32,
   "metadata": {
    "colab": {
     "base_uri": "https://localhost:8080/",
     "height": 238
    },
    "id": "D2NZUBdVbN-_",
    "outputId": "cb905e24-5df9-459c-dce3-e98b2576c45b"
   },
   "outputs": [
    {
     "data": {
      "text/html": [
       "<div>\n",
       "<style scoped>\n",
       "    .dataframe tbody tr th:only-of-type {\n",
       "        vertical-align: middle;\n",
       "    }\n",
       "\n",
       "    .dataframe tbody tr th {\n",
       "        vertical-align: top;\n",
       "    }\n",
       "\n",
       "    .dataframe thead th {\n",
       "        text-align: right;\n",
       "    }\n",
       "</style>\n",
       "<table border=\"1\" class=\"dataframe\">\n",
       "  <thead>\n",
       "    <tr style=\"text-align: right;\">\n",
       "      <th></th>\n",
       "      <th></th>\n",
       "      <th>Accuracy</th>\n",
       "      <th>F1 Score</th>\n",
       "    </tr>\n",
       "  </thead>\n",
       "  <tbody>\n",
       "    <tr>\n",
       "      <th rowspan=\"3\" valign=\"top\">No DR</th>\n",
       "      <th>Parzen</th>\n",
       "      <td>0.940789</td>\n",
       "      <td>0.960699</td>\n",
       "    </tr>\n",
       "    <tr>\n",
       "      <th>SVM</th>\n",
       "      <td>0.927632</td>\n",
       "      <td>0.953191</td>\n",
       "    </tr>\n",
       "    <tr>\n",
       "      <th>KNN Classifier</th>\n",
       "      <td>0.927632</td>\n",
       "      <td>0.95279</td>\n",
       "    </tr>\n",
       "    <tr>\n",
       "      <th rowspan=\"3\" valign=\"top\">DR</th>\n",
       "      <th>Parzen</th>\n",
       "      <td>0.861842</td>\n",
       "      <td>0.90583</td>\n",
       "    </tr>\n",
       "    <tr>\n",
       "      <th>SVM</th>\n",
       "      <td>-</td>\n",
       "      <td>-</td>\n",
       "    </tr>\n",
       "    <tr>\n",
       "      <th>KNN Classifier</th>\n",
       "      <td>0.868421</td>\n",
       "      <td>0.912281</td>\n",
       "    </tr>\n",
       "  </tbody>\n",
       "</table>\n",
       "</div>"
      ],
      "text/plain": [
       "                      Accuracy  F1 Score\n",
       "No DR Parzen          0.940789  0.960699\n",
       "      SVM             0.927632  0.953191\n",
       "      KNN Classifier  0.927632   0.95279\n",
       "DR    Parzen          0.861842   0.90583\n",
       "      SVM                    -         -\n",
       "      KNN Classifier  0.868421  0.912281"
      ]
     },
     "metadata": {
      "tags": []
     },
     "output_type": "display_data"
    }
   ],
   "source": [
    "import pandas as pd\n",
    "\n",
    "idx = pd.MultiIndex.from_product([['No DR', 'DR'],\n",
    "                                 ['Parzen', 'SVM', 'KNN Classifier']])\n",
    "\n",
    "col = ['Accuracy', 'F1 Score']\n",
    "\n",
    "report_df = pd.DataFrame('-', idx, col)\n",
    "report_df.loc[('No DR', 'Parzen')] = parzen_report['accuracy'], parzen_report['PD']['f1-score']\n",
    "report_df.loc[('No DR', 'SVM')] = svm_report['accuracy'], svm_report['PD']['f1-score']\n",
    "report_df.loc[('No DR', 'KNN Classifier')] = knn_report['accuracy'], knn_report['PD']['f1-score']\n",
    "\n",
    "report_df.loc[('DR', 'Parzen')] = dr_parzen_report['accuracy'], dr_parzen_report['PD']['f1-score']\n",
    "report_df.loc[('DR', 'KNN Classifier')] = dr_knn_report['accuracy'], dr_knn_report['PD']['f1-score']\n",
    "\n",
    "display(report_df)"
   ]
  },
  {
   "cell_type": "code",
   "execution_count": 32,
   "metadata": {
    "id": "yunw0TRBNHNJ"
   },
   "outputs": [],
   "source": []
  }
 ],
 "metadata": {
  "colab": {
   "collapsed_sections": [],
   "name": "ML Final Project Report.ipynb",
   "provenance": []
  },
  "kernelspec": {
   "display_name": "Python 3",
   "language": "python",
   "name": "python3"
  },
  "language_info": {
   "codemirror_mode": {
    "name": "ipython",
    "version": 3
   },
   "file_extension": ".py",
   "mimetype": "text/x-python",
   "name": "python",
   "nbconvert_exporter": "python",
   "pygments_lexer": "ipython3",
   "version": "3.7.4"
  }
 },
 "nbformat": 4,
 "nbformat_minor": 1
}
